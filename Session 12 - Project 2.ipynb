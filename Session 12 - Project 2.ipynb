{
 "cells": [
  {
   "cell_type": "markdown",
   "metadata": {},
   "source": [
    "# Session 12 - Project 2"
   ]
  },
  {
   "cell_type": "markdown",
   "metadata": {
    "colab_type": "text",
    "id": "XfTj42QU0JHI"
   },
   "source": [
    "## Predicting players rating"
   ]
  },
  {
   "cell_type": "markdown",
   "metadata": {
    "colab_type": "text",
    "id": "uBAWlUCh0JHW"
   },
   "source": [
    "### In this project I am going to predict the overall rating of soccer player based on their attributes such as 'crossing', 'finishing etc."
   ]
  },
  {
   "cell_type": "markdown",
   "metadata": {
    "colab_type": "text",
    "id": "5MzO9l_Z0JHa"
   },
   "source": [
    "<p> The dataset I am going to use is from European Soccer Database\n",
    "(https://www.kaggle.com/hugomathien/soccer) has more than 25,000 matches and more than 10,000 players for European professional soccer seasons from 2008 to 2016. </p>"
   ]
  },
  {
   "cell_type": "markdown",
   "metadata": {
    "colab_type": "text",
    "id": "EdkChA6K0JHf"
   },
   "source": [
    "## About the Dataset"
   ]
  },
  {
   "cell_type": "markdown",
   "metadata": {
    "colab_type": "text",
    "id": "ZSpErizt0JHk"
   },
   "source": [
    "\n",
    "### The ultimate Soccer database for data analysis and machine learning\n",
    "<p>The dataset comes in the form of an SQL database and contains statistics of about 25,000 football\n",
    "matches, from the top football league of 11 European Countries. It covers seasons from 2008 to\n",
    "2016 and contains match statistics (i.e: scores, corners, fouls etc...) as well as the team formations,\n",
    "with player names and a pair of coordinates to indicate their position on the pitch. </p>\n",
    "<ul>\n",
    "<li>+25,000 matches</li>\n",
    "<li>+10,000 players</li>\n",
    "<li>11 European Countries with their lead championship</li>\n",
    "<li>Seasons 2008 to 2016</li>\n",
    "<li>Players and Teams' attributes* sourced from EA Sports' FIFA video game series, including the weekly updates</li>\n",
    "<li>Team line up with squad formation (X, Y coordinates)</li>\n",
    "<li>Betting odds from up to 10 providers</li>\n",
    "<li>Detailed match events (goal types, possession, corner, cross, fouls, cards etc...) for +10,000 matches</li>\n",
    "</ul>    \n",
    "<p>The dataset also has a set of about 35 statistics for each player, derived from EA Sports' FIFA video\n",
    "games. It is not just the stats that come with a new version of the game but also the weekly\n",
    "updates. So for instance if a player has performed poorly over a period of time and his stats get\n",
    "impacted in FIFA, you would normally see the same in the dataset. </p>"
   ]
  },
  {
   "cell_type": "markdown",
   "metadata": {
    "colab_type": "text",
    "id": "b1cZ0sz-0JHo"
   },
   "source": [
    "## Importing Modules"
   ]
  },
  {
   "cell_type": "code",
   "execution_count": 48,
   "metadata": {
    "colab": {
     "autoexec": {
      "startup": false,
      "wait_interval": 0
     },
     "base_uri": "https://localhost:8080/",
     "height": 72
    },
    "colab_type": "code",
    "executionInfo": {
     "elapsed": 1827,
     "status": "ok",
     "timestamp": 1533167997507,
     "user": {
      "displayName": "Abhishek Kumar Gupta",
      "photoUrl": "//lh6.googleusercontent.com/-fpn6mF4EqQo/AAAAAAAAAAI/AAAAAAAAANs/sxPIjRwi5JI/s50-c-k-no/photo.jpg",
      "userId": "115467584731929004754"
     },
     "user_tz": -330
    },
    "id": "lXgE2NgD0JHs",
    "outputId": "3567a2ba-1954-4c25-9ad5-f1ef307ee2ac"
   },
   "outputs": [],
   "source": [
    "import sqlite3\n",
    "import numpy as np\n",
    "import pylab as pl\n",
    "import pandas as pd\n",
    "import statsmodels.api as sm\n",
    "import matplotlib.pyplot as plt\n",
    "import seaborn as  sns\n",
    "from math import sqrt\n",
    "from sklearn.metrics import mean_squared_error\n",
    "from sklearn.linear_model import LinearRegression\n",
    "from sklearn.linear_model import LogisticRegression\n",
    "from sklearn.model_selection import train_test_split, cross_val_score\n",
    "%matplotlib inline"
   ]
  },
  {
   "cell_type": "markdown",
   "metadata": {
    "colab_type": "text",
    "id": "l4R8OnOq0JIO"
   },
   "source": [
    "## Data Pre-Processing"
   ]
  },
  {
   "cell_type": "markdown",
   "metadata": {},
   "source": [
    "#### Creating a Connection object that represents the database"
   ]
  },
  {
   "cell_type": "markdown",
   "metadata": {},
   "source": [
    "#### Reading SQL query into a DataFrame"
   ]
  },
  {
   "cell_type": "code",
   "execution_count": 49,
   "metadata": {
    "colab": {
     "autoexec": {
      "startup": false,
      "wait_interval": 0
     }
    },
    "colab_type": "code",
    "id": "LZVIGbxr0JIW"
   },
   "outputs": [],
   "source": [
    "conn = sqlite3.connect('database.sqlite') \n",
    "df = pd.read_sql_query(\"SELECT * FROM Player_Attributes\", conn)"
   ]
  },
  {
   "cell_type": "markdown",
   "metadata": {
    "colab_type": "text",
    "id": "Lvt6x9uT0JIz"
   },
   "source": [
    "## Data Exploration"
   ]
  },
  {
   "cell_type": "code",
   "execution_count": 50,
   "metadata": {
    "colab": {
     "autoexec": {
      "startup": false,
      "wait_interval": 0
     },
     "base_uri": "https://localhost:8080/",
     "height": 413
    },
    "colab_type": "code",
    "executionInfo": {
     "elapsed": 1537,
     "status": "ok",
     "timestamp": 1533168004570,
     "user": {
      "displayName": "Abhishek Kumar Gupta",
      "photoUrl": "//lh6.googleusercontent.com/-fpn6mF4EqQo/AAAAAAAAAAI/AAAAAAAAANs/sxPIjRwi5JI/s50-c-k-no/photo.jpg",
      "userId": "115467584731929004754"
     },
     "user_tz": -330
    },
    "id": "DLiijnJc0JI7",
    "outputId": "3cc367e8-ac7a-486c-dc31-7c501309e8a1"
   },
   "outputs": [
    {
     "data": {
      "text/html": [
       "<div>\n",
       "<style scoped>\n",
       "    .dataframe tbody tr th:only-of-type {\n",
       "        vertical-align: middle;\n",
       "    }\n",
       "\n",
       "    .dataframe tbody tr th {\n",
       "        vertical-align: top;\n",
       "    }\n",
       "\n",
       "    .dataframe thead th {\n",
       "        text-align: right;\n",
       "    }\n",
       "</style>\n",
       "<table border=\"1\" class=\"dataframe\">\n",
       "  <thead>\n",
       "    <tr style=\"text-align: right;\">\n",
       "      <th></th>\n",
       "      <th>id</th>\n",
       "      <th>player_fifa_api_id</th>\n",
       "      <th>player_api_id</th>\n",
       "      <th>date</th>\n",
       "      <th>overall_rating</th>\n",
       "      <th>potential</th>\n",
       "      <th>preferred_foot</th>\n",
       "      <th>attacking_work_rate</th>\n",
       "      <th>defensive_work_rate</th>\n",
       "      <th>crossing</th>\n",
       "      <th>...</th>\n",
       "      <th>vision</th>\n",
       "      <th>penalties</th>\n",
       "      <th>marking</th>\n",
       "      <th>standing_tackle</th>\n",
       "      <th>sliding_tackle</th>\n",
       "      <th>gk_diving</th>\n",
       "      <th>gk_handling</th>\n",
       "      <th>gk_kicking</th>\n",
       "      <th>gk_positioning</th>\n",
       "      <th>gk_reflexes</th>\n",
       "    </tr>\n",
       "  </thead>\n",
       "  <tbody>\n",
       "    <tr>\n",
       "      <th>0</th>\n",
       "      <td>1</td>\n",
       "      <td>218353</td>\n",
       "      <td>505942</td>\n",
       "      <td>2016-02-18 00:00:00</td>\n",
       "      <td>67.0</td>\n",
       "      <td>71.0</td>\n",
       "      <td>right</td>\n",
       "      <td>medium</td>\n",
       "      <td>medium</td>\n",
       "      <td>49.0</td>\n",
       "      <td>...</td>\n",
       "      <td>54.0</td>\n",
       "      <td>48.0</td>\n",
       "      <td>65.0</td>\n",
       "      <td>69.0</td>\n",
       "      <td>69.0</td>\n",
       "      <td>6.0</td>\n",
       "      <td>11.0</td>\n",
       "      <td>10.0</td>\n",
       "      <td>8.0</td>\n",
       "      <td>8.0</td>\n",
       "    </tr>\n",
       "    <tr>\n",
       "      <th>1</th>\n",
       "      <td>2</td>\n",
       "      <td>218353</td>\n",
       "      <td>505942</td>\n",
       "      <td>2015-11-19 00:00:00</td>\n",
       "      <td>67.0</td>\n",
       "      <td>71.0</td>\n",
       "      <td>right</td>\n",
       "      <td>medium</td>\n",
       "      <td>medium</td>\n",
       "      <td>49.0</td>\n",
       "      <td>...</td>\n",
       "      <td>54.0</td>\n",
       "      <td>48.0</td>\n",
       "      <td>65.0</td>\n",
       "      <td>69.0</td>\n",
       "      <td>69.0</td>\n",
       "      <td>6.0</td>\n",
       "      <td>11.0</td>\n",
       "      <td>10.0</td>\n",
       "      <td>8.0</td>\n",
       "      <td>8.0</td>\n",
       "    </tr>\n",
       "    <tr>\n",
       "      <th>2</th>\n",
       "      <td>3</td>\n",
       "      <td>218353</td>\n",
       "      <td>505942</td>\n",
       "      <td>2015-09-21 00:00:00</td>\n",
       "      <td>62.0</td>\n",
       "      <td>66.0</td>\n",
       "      <td>right</td>\n",
       "      <td>medium</td>\n",
       "      <td>medium</td>\n",
       "      <td>49.0</td>\n",
       "      <td>...</td>\n",
       "      <td>54.0</td>\n",
       "      <td>48.0</td>\n",
       "      <td>65.0</td>\n",
       "      <td>66.0</td>\n",
       "      <td>69.0</td>\n",
       "      <td>6.0</td>\n",
       "      <td>11.0</td>\n",
       "      <td>10.0</td>\n",
       "      <td>8.0</td>\n",
       "      <td>8.0</td>\n",
       "    </tr>\n",
       "    <tr>\n",
       "      <th>3</th>\n",
       "      <td>4</td>\n",
       "      <td>218353</td>\n",
       "      <td>505942</td>\n",
       "      <td>2015-03-20 00:00:00</td>\n",
       "      <td>61.0</td>\n",
       "      <td>65.0</td>\n",
       "      <td>right</td>\n",
       "      <td>medium</td>\n",
       "      <td>medium</td>\n",
       "      <td>48.0</td>\n",
       "      <td>...</td>\n",
       "      <td>53.0</td>\n",
       "      <td>47.0</td>\n",
       "      <td>62.0</td>\n",
       "      <td>63.0</td>\n",
       "      <td>66.0</td>\n",
       "      <td>5.0</td>\n",
       "      <td>10.0</td>\n",
       "      <td>9.0</td>\n",
       "      <td>7.0</td>\n",
       "      <td>7.0</td>\n",
       "    </tr>\n",
       "    <tr>\n",
       "      <th>4</th>\n",
       "      <td>5</td>\n",
       "      <td>218353</td>\n",
       "      <td>505942</td>\n",
       "      <td>2007-02-22 00:00:00</td>\n",
       "      <td>61.0</td>\n",
       "      <td>65.0</td>\n",
       "      <td>right</td>\n",
       "      <td>medium</td>\n",
       "      <td>medium</td>\n",
       "      <td>48.0</td>\n",
       "      <td>...</td>\n",
       "      <td>53.0</td>\n",
       "      <td>47.0</td>\n",
       "      <td>62.0</td>\n",
       "      <td>63.0</td>\n",
       "      <td>66.0</td>\n",
       "      <td>5.0</td>\n",
       "      <td>10.0</td>\n",
       "      <td>9.0</td>\n",
       "      <td>7.0</td>\n",
       "      <td>7.0</td>\n",
       "    </tr>\n",
       "  </tbody>\n",
       "</table>\n",
       "<p>5 rows × 42 columns</p>\n",
       "</div>"
      ],
      "text/plain": [
       "   id  player_fifa_api_id  player_api_id                 date  overall_rating  \\\n",
       "0   1              218353         505942  2016-02-18 00:00:00            67.0   \n",
       "1   2              218353         505942  2015-11-19 00:00:00            67.0   \n",
       "2   3              218353         505942  2015-09-21 00:00:00            62.0   \n",
       "3   4              218353         505942  2015-03-20 00:00:00            61.0   \n",
       "4   5              218353         505942  2007-02-22 00:00:00            61.0   \n",
       "\n",
       "   potential preferred_foot attacking_work_rate defensive_work_rate  crossing  \\\n",
       "0       71.0          right              medium              medium      49.0   \n",
       "1       71.0          right              medium              medium      49.0   \n",
       "2       66.0          right              medium              medium      49.0   \n",
       "3       65.0          right              medium              medium      48.0   \n",
       "4       65.0          right              medium              medium      48.0   \n",
       "\n",
       "      ...       vision  penalties  marking  standing_tackle  sliding_tackle  \\\n",
       "0     ...         54.0       48.0     65.0             69.0            69.0   \n",
       "1     ...         54.0       48.0     65.0             69.0            69.0   \n",
       "2     ...         54.0       48.0     65.0             66.0            69.0   \n",
       "3     ...         53.0       47.0     62.0             63.0            66.0   \n",
       "4     ...         53.0       47.0     62.0             63.0            66.0   \n",
       "\n",
       "   gk_diving  gk_handling  gk_kicking  gk_positioning  gk_reflexes  \n",
       "0        6.0         11.0        10.0             8.0          8.0  \n",
       "1        6.0         11.0        10.0             8.0          8.0  \n",
       "2        6.0         11.0        10.0             8.0          8.0  \n",
       "3        5.0         10.0         9.0             7.0          7.0  \n",
       "4        5.0         10.0         9.0             7.0          7.0  \n",
       "\n",
       "[5 rows x 42 columns]"
      ]
     },
     "execution_count": 50,
     "metadata": {},
     "output_type": "execute_result"
    }
   ],
   "source": [
    "df.head() #Returns the first 5 rows of dataframe df"
   ]
  },
  {
   "cell_type": "code",
   "execution_count": 51,
   "metadata": {
    "colab": {
     "autoexec": {
      "startup": false,
      "wait_interval": 0
     },
     "base_uri": "https://localhost:8080/",
     "height": 212
    },
    "colab_type": "code",
    "executionInfo": {
     "elapsed": 1009,
     "status": "ok",
     "timestamp": 1533168006508,
     "user": {
      "displayName": "Abhishek Kumar Gupta",
      "photoUrl": "//lh6.googleusercontent.com/-fpn6mF4EqQo/AAAAAAAAAAI/AAAAAAAAANs/sxPIjRwi5JI/s50-c-k-no/photo.jpg",
      "userId": "115467584731929004754"
     },
     "user_tz": -330
    },
    "id": "FAfvXFVa0JJn",
    "outputId": "94d67f5d-1e04-4b24-a7ea-a6aafc0118a7"
   },
   "outputs": [
    {
     "data": {
      "text/plain": [
       "Index(['id', 'player_fifa_api_id', 'player_api_id', 'date', 'overall_rating',\n",
       "       'potential', 'preferred_foot', 'attacking_work_rate',\n",
       "       'defensive_work_rate', 'crossing', 'finishing', 'heading_accuracy',\n",
       "       'short_passing', 'volleys', 'dribbling', 'curve', 'free_kick_accuracy',\n",
       "       'long_passing', 'ball_control', 'acceleration', 'sprint_speed',\n",
       "       'agility', 'reactions', 'balance', 'shot_power', 'jumping', 'stamina',\n",
       "       'strength', 'long_shots', 'aggression', 'interceptions', 'positioning',\n",
       "       'vision', 'penalties', 'marking', 'standing_tackle', 'sliding_tackle',\n",
       "       'gk_diving', 'gk_handling', 'gk_kicking', 'gk_positioning',\n",
       "       'gk_reflexes'],\n",
       "      dtype='object')"
      ]
     },
     "execution_count": 51,
     "metadata": {},
     "output_type": "execute_result"
    }
   ],
   "source": [
    "df.columns #Columns of dataframe df"
   ]
  },
  {
   "cell_type": "code",
   "execution_count": 52,
   "metadata": {
    "colab": {
     "autoexec": {
      "startup": false,
      "wait_interval": 0
     },
     "base_uri": "https://localhost:8080/",
     "height": 336
    },
    "colab_type": "code",
    "executionInfo": {
     "elapsed": 1413,
     "status": "ok",
     "timestamp": 1533168008658,
     "user": {
      "displayName": "Abhishek Kumar Gupta",
      "photoUrl": "//lh6.googleusercontent.com/-fpn6mF4EqQo/AAAAAAAAAAI/AAAAAAAAANs/sxPIjRwi5JI/s50-c-k-no/photo.jpg",
      "userId": "115467584731929004754"
     },
     "user_tz": -330
    },
    "id": "Ydb7dIBt0JKB",
    "outputId": "0bbb6b0b-7382-4323-bea1-f9f9cc5392c6"
   },
   "outputs": [
    {
     "data": {
      "text/html": [
       "<div>\n",
       "<style scoped>\n",
       "    .dataframe tbody tr th:only-of-type {\n",
       "        vertical-align: middle;\n",
       "    }\n",
       "\n",
       "    .dataframe tbody tr th {\n",
       "        vertical-align: top;\n",
       "    }\n",
       "\n",
       "    .dataframe thead th {\n",
       "        text-align: right;\n",
       "    }\n",
       "</style>\n",
       "<table border=\"1\" class=\"dataframe\">\n",
       "  <thead>\n",
       "    <tr style=\"text-align: right;\">\n",
       "      <th></th>\n",
       "      <th>id</th>\n",
       "      <th>player_fifa_api_id</th>\n",
       "      <th>player_api_id</th>\n",
       "      <th>overall_rating</th>\n",
       "      <th>potential</th>\n",
       "      <th>crossing</th>\n",
       "      <th>finishing</th>\n",
       "      <th>heading_accuracy</th>\n",
       "      <th>short_passing</th>\n",
       "      <th>volleys</th>\n",
       "      <th>...</th>\n",
       "      <th>vision</th>\n",
       "      <th>penalties</th>\n",
       "      <th>marking</th>\n",
       "      <th>standing_tackle</th>\n",
       "      <th>sliding_tackle</th>\n",
       "      <th>gk_diving</th>\n",
       "      <th>gk_handling</th>\n",
       "      <th>gk_kicking</th>\n",
       "      <th>gk_positioning</th>\n",
       "      <th>gk_reflexes</th>\n",
       "    </tr>\n",
       "  </thead>\n",
       "  <tbody>\n",
       "    <tr>\n",
       "      <th>count</th>\n",
       "      <td>183978.00000</td>\n",
       "      <td>183978.000000</td>\n",
       "      <td>183978.000000</td>\n",
       "      <td>183142.000000</td>\n",
       "      <td>183142.000000</td>\n",
       "      <td>183142.000000</td>\n",
       "      <td>183142.000000</td>\n",
       "      <td>183142.000000</td>\n",
       "      <td>183142.000000</td>\n",
       "      <td>181265.000000</td>\n",
       "      <td>...</td>\n",
       "      <td>181265.000000</td>\n",
       "      <td>183142.000000</td>\n",
       "      <td>183142.000000</td>\n",
       "      <td>183142.000000</td>\n",
       "      <td>181265.000000</td>\n",
       "      <td>183142.000000</td>\n",
       "      <td>183142.000000</td>\n",
       "      <td>183142.000000</td>\n",
       "      <td>183142.000000</td>\n",
       "      <td>183142.000000</td>\n",
       "    </tr>\n",
       "    <tr>\n",
       "      <th>mean</th>\n",
       "      <td>91989.50000</td>\n",
       "      <td>165671.524291</td>\n",
       "      <td>135900.617324</td>\n",
       "      <td>68.600015</td>\n",
       "      <td>73.460353</td>\n",
       "      <td>55.086883</td>\n",
       "      <td>49.921078</td>\n",
       "      <td>57.266023</td>\n",
       "      <td>62.429672</td>\n",
       "      <td>49.468436</td>\n",
       "      <td>...</td>\n",
       "      <td>57.873550</td>\n",
       "      <td>55.003986</td>\n",
       "      <td>46.772242</td>\n",
       "      <td>50.351257</td>\n",
       "      <td>48.001462</td>\n",
       "      <td>14.704393</td>\n",
       "      <td>16.063612</td>\n",
       "      <td>20.998362</td>\n",
       "      <td>16.132154</td>\n",
       "      <td>16.441439</td>\n",
       "    </tr>\n",
       "    <tr>\n",
       "      <th>std</th>\n",
       "      <td>53110.01825</td>\n",
       "      <td>53851.094769</td>\n",
       "      <td>136927.840510</td>\n",
       "      <td>7.041139</td>\n",
       "      <td>6.592271</td>\n",
       "      <td>17.242135</td>\n",
       "      <td>19.038705</td>\n",
       "      <td>16.488905</td>\n",
       "      <td>14.194068</td>\n",
       "      <td>18.256618</td>\n",
       "      <td>...</td>\n",
       "      <td>15.144086</td>\n",
       "      <td>15.546519</td>\n",
       "      <td>21.227667</td>\n",
       "      <td>21.483706</td>\n",
       "      <td>21.598778</td>\n",
       "      <td>16.865467</td>\n",
       "      <td>15.867382</td>\n",
       "      <td>21.452980</td>\n",
       "      <td>16.099175</td>\n",
       "      <td>17.198155</td>\n",
       "    </tr>\n",
       "    <tr>\n",
       "      <th>min</th>\n",
       "      <td>1.00000</td>\n",
       "      <td>2.000000</td>\n",
       "      <td>2625.000000</td>\n",
       "      <td>33.000000</td>\n",
       "      <td>39.000000</td>\n",
       "      <td>1.000000</td>\n",
       "      <td>1.000000</td>\n",
       "      <td>1.000000</td>\n",
       "      <td>3.000000</td>\n",
       "      <td>1.000000</td>\n",
       "      <td>...</td>\n",
       "      <td>1.000000</td>\n",
       "      <td>2.000000</td>\n",
       "      <td>1.000000</td>\n",
       "      <td>1.000000</td>\n",
       "      <td>2.000000</td>\n",
       "      <td>1.000000</td>\n",
       "      <td>1.000000</td>\n",
       "      <td>1.000000</td>\n",
       "      <td>1.000000</td>\n",
       "      <td>1.000000</td>\n",
       "    </tr>\n",
       "    <tr>\n",
       "      <th>25%</th>\n",
       "      <td>45995.25000</td>\n",
       "      <td>155798.000000</td>\n",
       "      <td>34763.000000</td>\n",
       "      <td>64.000000</td>\n",
       "      <td>69.000000</td>\n",
       "      <td>45.000000</td>\n",
       "      <td>34.000000</td>\n",
       "      <td>49.000000</td>\n",
       "      <td>57.000000</td>\n",
       "      <td>35.000000</td>\n",
       "      <td>...</td>\n",
       "      <td>49.000000</td>\n",
       "      <td>45.000000</td>\n",
       "      <td>25.000000</td>\n",
       "      <td>29.000000</td>\n",
       "      <td>25.000000</td>\n",
       "      <td>7.000000</td>\n",
       "      <td>8.000000</td>\n",
       "      <td>8.000000</td>\n",
       "      <td>8.000000</td>\n",
       "      <td>8.000000</td>\n",
       "    </tr>\n",
       "    <tr>\n",
       "      <th>50%</th>\n",
       "      <td>91989.50000</td>\n",
       "      <td>183488.000000</td>\n",
       "      <td>77741.000000</td>\n",
       "      <td>69.000000</td>\n",
       "      <td>74.000000</td>\n",
       "      <td>59.000000</td>\n",
       "      <td>53.000000</td>\n",
       "      <td>60.000000</td>\n",
       "      <td>65.000000</td>\n",
       "      <td>52.000000</td>\n",
       "      <td>...</td>\n",
       "      <td>60.000000</td>\n",
       "      <td>57.000000</td>\n",
       "      <td>50.000000</td>\n",
       "      <td>56.000000</td>\n",
       "      <td>53.000000</td>\n",
       "      <td>10.000000</td>\n",
       "      <td>11.000000</td>\n",
       "      <td>12.000000</td>\n",
       "      <td>11.000000</td>\n",
       "      <td>11.000000</td>\n",
       "    </tr>\n",
       "    <tr>\n",
       "      <th>75%</th>\n",
       "      <td>137983.75000</td>\n",
       "      <td>199848.000000</td>\n",
       "      <td>191080.000000</td>\n",
       "      <td>73.000000</td>\n",
       "      <td>78.000000</td>\n",
       "      <td>68.000000</td>\n",
       "      <td>65.000000</td>\n",
       "      <td>68.000000</td>\n",
       "      <td>72.000000</td>\n",
       "      <td>64.000000</td>\n",
       "      <td>...</td>\n",
       "      <td>69.000000</td>\n",
       "      <td>67.000000</td>\n",
       "      <td>66.000000</td>\n",
       "      <td>69.000000</td>\n",
       "      <td>67.000000</td>\n",
       "      <td>13.000000</td>\n",
       "      <td>15.000000</td>\n",
       "      <td>15.000000</td>\n",
       "      <td>15.000000</td>\n",
       "      <td>15.000000</td>\n",
       "    </tr>\n",
       "    <tr>\n",
       "      <th>max</th>\n",
       "      <td>183978.00000</td>\n",
       "      <td>234141.000000</td>\n",
       "      <td>750584.000000</td>\n",
       "      <td>94.000000</td>\n",
       "      <td>97.000000</td>\n",
       "      <td>95.000000</td>\n",
       "      <td>97.000000</td>\n",
       "      <td>98.000000</td>\n",
       "      <td>97.000000</td>\n",
       "      <td>93.000000</td>\n",
       "      <td>...</td>\n",
       "      <td>97.000000</td>\n",
       "      <td>96.000000</td>\n",
       "      <td>96.000000</td>\n",
       "      <td>95.000000</td>\n",
       "      <td>95.000000</td>\n",
       "      <td>94.000000</td>\n",
       "      <td>93.000000</td>\n",
       "      <td>97.000000</td>\n",
       "      <td>96.000000</td>\n",
       "      <td>96.000000</td>\n",
       "    </tr>\n",
       "  </tbody>\n",
       "</table>\n",
       "<p>8 rows × 38 columns</p>\n",
       "</div>"
      ],
      "text/plain": [
       "                 id  player_fifa_api_id  player_api_id  overall_rating  \\\n",
       "count  183978.00000       183978.000000  183978.000000   183142.000000   \n",
       "mean    91989.50000       165671.524291  135900.617324       68.600015   \n",
       "std     53110.01825        53851.094769  136927.840510        7.041139   \n",
       "min         1.00000            2.000000    2625.000000       33.000000   \n",
       "25%     45995.25000       155798.000000   34763.000000       64.000000   \n",
       "50%     91989.50000       183488.000000   77741.000000       69.000000   \n",
       "75%    137983.75000       199848.000000  191080.000000       73.000000   \n",
       "max    183978.00000       234141.000000  750584.000000       94.000000   \n",
       "\n",
       "           potential       crossing      finishing  heading_accuracy  \\\n",
       "count  183142.000000  183142.000000  183142.000000     183142.000000   \n",
       "mean       73.460353      55.086883      49.921078         57.266023   \n",
       "std         6.592271      17.242135      19.038705         16.488905   \n",
       "min        39.000000       1.000000       1.000000          1.000000   \n",
       "25%        69.000000      45.000000      34.000000         49.000000   \n",
       "50%        74.000000      59.000000      53.000000         60.000000   \n",
       "75%        78.000000      68.000000      65.000000         68.000000   \n",
       "max        97.000000      95.000000      97.000000         98.000000   \n",
       "\n",
       "       short_passing        volleys      ...               vision  \\\n",
       "count  183142.000000  181265.000000      ...        181265.000000   \n",
       "mean       62.429672      49.468436      ...            57.873550   \n",
       "std        14.194068      18.256618      ...            15.144086   \n",
       "min         3.000000       1.000000      ...             1.000000   \n",
       "25%        57.000000      35.000000      ...            49.000000   \n",
       "50%        65.000000      52.000000      ...            60.000000   \n",
       "75%        72.000000      64.000000      ...            69.000000   \n",
       "max        97.000000      93.000000      ...            97.000000   \n",
       "\n",
       "           penalties        marking  standing_tackle  sliding_tackle  \\\n",
       "count  183142.000000  183142.000000    183142.000000   181265.000000   \n",
       "mean       55.003986      46.772242        50.351257       48.001462   \n",
       "std        15.546519      21.227667        21.483706       21.598778   \n",
       "min         2.000000       1.000000         1.000000        2.000000   \n",
       "25%        45.000000      25.000000        29.000000       25.000000   \n",
       "50%        57.000000      50.000000        56.000000       53.000000   \n",
       "75%        67.000000      66.000000        69.000000       67.000000   \n",
       "max        96.000000      96.000000        95.000000       95.000000   \n",
       "\n",
       "           gk_diving    gk_handling     gk_kicking  gk_positioning  \\\n",
       "count  183142.000000  183142.000000  183142.000000   183142.000000   \n",
       "mean       14.704393      16.063612      20.998362       16.132154   \n",
       "std        16.865467      15.867382      21.452980       16.099175   \n",
       "min         1.000000       1.000000       1.000000        1.000000   \n",
       "25%         7.000000       8.000000       8.000000        8.000000   \n",
       "50%        10.000000      11.000000      12.000000       11.000000   \n",
       "75%        13.000000      15.000000      15.000000       15.000000   \n",
       "max        94.000000      93.000000      97.000000       96.000000   \n",
       "\n",
       "         gk_reflexes  \n",
       "count  183142.000000  \n",
       "mean       16.441439  \n",
       "std        17.198155  \n",
       "min         1.000000  \n",
       "25%         8.000000  \n",
       "50%        11.000000  \n",
       "75%        15.000000  \n",
       "max        96.000000  \n",
       "\n",
       "[8 rows x 38 columns]"
      ]
     },
     "execution_count": 52,
     "metadata": {},
     "output_type": "execute_result"
    }
   ],
   "source": [
    "# The summary statistics of the dataframe df\n",
    "df.describe()"
   ]
  },
  {
   "cell_type": "code",
   "execution_count": 53,
   "metadata": {
    "colab": {
     "autoexec": {
      "startup": false,
      "wait_interval": 0
     },
     "base_uri": "https://localhost:8080/",
     "height": 34
    },
    "colab_type": "code",
    "executionInfo": {
     "elapsed": 784,
     "status": "ok",
     "timestamp": 1533168010302,
     "user": {
      "displayName": "Abhishek Kumar Gupta",
      "photoUrl": "//lh6.googleusercontent.com/-fpn6mF4EqQo/AAAAAAAAAAI/AAAAAAAAANs/sxPIjRwi5JI/s50-c-k-no/photo.jpg",
      "userId": "115467584731929004754"
     },
     "user_tz": -330
    },
    "id": "G45s_DRC0JKX",
    "outputId": "e1f4beac-b926-45c9-bc20-3375ba369be2"
   },
   "outputs": [
    {
     "data": {
      "text/plain": [
       "(183978, 42)"
      ]
     },
     "execution_count": 53,
     "metadata": {},
     "output_type": "execute_result"
    }
   ],
   "source": [
    "df.shape #Return a tuple representing the dimensionality of the DataFrame df."
   ]
  },
  {
   "cell_type": "markdown",
   "metadata": {
    "colab_type": "text",
    "id": "DlJJIJ360JK3"
   },
   "source": [
    "## Data Cleaning"
   ]
  },
  {
   "cell_type": "code",
   "execution_count": 54,
   "metadata": {
    "colab": {
     "autoexec": {
      "startup": false,
      "wait_interval": 0
     },
     "base_uri": "https://localhost:8080/",
     "height": 34
    },
    "colab_type": "code",
    "executionInfo": {
     "elapsed": 1992,
     "status": "ok",
     "timestamp": 1533168012738,
     "user": {
      "displayName": "Abhishek Kumar Gupta",
      "photoUrl": "//lh6.googleusercontent.com/-fpn6mF4EqQo/AAAAAAAAAAI/AAAAAAAAANs/sxPIjRwi5JI/s50-c-k-no/photo.jpg",
      "userId": "115467584731929004754"
     },
     "user_tz": -330
    },
    "id": "_s6Z7Jzk0JLD",
    "outputId": "8ea9a005-9528-4792-d406-a2e61adaf848"
   },
   "outputs": [
    {
     "data": {
      "text/plain": [
       "True"
      ]
     },
     "execution_count": 54,
     "metadata": {},
     "output_type": "execute_result"
    }
   ],
   "source": [
    "df.isnull().values.any() # Check for any NA’s in the dataframe."
   ]
  },
  {
   "cell_type": "code",
   "execution_count": 55,
   "metadata": {
    "colab": {
     "autoexec": {
      "startup": false,
      "wait_interval": 0
     }
    },
    "colab_type": "code",
    "id": "CsuSOH_O0JLp"
   },
   "outputs": [],
   "source": [
    "df1 = df.dropna() # Drop the rows where at least one element is missing."
   ]
  },
  {
   "cell_type": "code",
   "execution_count": 56,
   "metadata": {
    "colab": {
     "autoexec": {
      "startup": false,
      "wait_interval": 0
     },
     "base_uri": "https://localhost:8080/",
     "height": 34
    },
    "colab_type": "code",
    "executionInfo": {
     "elapsed": 1858,
     "status": "ok",
     "timestamp": 1533168017131,
     "user": {
      "displayName": "Abhishek Kumar Gupta",
      "photoUrl": "//lh6.googleusercontent.com/-fpn6mF4EqQo/AAAAAAAAAAI/AAAAAAAAANs/sxPIjRwi5JI/s50-c-k-no/photo.jpg",
      "userId": "115467584731929004754"
     },
     "user_tz": -330
    },
    "id": "hr882zHQ0JMD",
    "outputId": "2dbf635b-924b-4787-a8b4-befc1b363751"
   },
   "outputs": [
    {
     "data": {
      "text/plain": [
       "(180354, 42)"
      ]
     },
     "execution_count": 56,
     "metadata": {},
     "output_type": "execute_result"
    }
   ],
   "source": [
    "df1.shape # Return a tuple representing the dimensionality of the DataFrame df1."
   ]
  },
  {
   "cell_type": "code",
   "execution_count": 57,
   "metadata": {
    "colab": {
     "autoexec": {
      "startup": false,
      "wait_interval": 0
     },
     "base_uri": "https://localhost:8080/",
     "height": 212
    },
    "colab_type": "code",
    "executionInfo": {
     "elapsed": 1349,
     "status": "ok",
     "timestamp": 1533168019285,
     "user": {
      "displayName": "Abhishek Kumar Gupta",
      "photoUrl": "//lh6.googleusercontent.com/-fpn6mF4EqQo/AAAAAAAAAAI/AAAAAAAAANs/sxPIjRwi5JI/s50-c-k-no/photo.jpg",
      "userId": "115467584731929004754"
     },
     "user_tz": -330
    },
    "id": "eaLJUXBr0JMx",
    "outputId": "90b53a1e-de92-4772-a263-b24d5b366012"
   },
   "outputs": [
    {
     "data": {
      "text/plain": [
       "Index(['id', 'player_fifa_api_id', 'player_api_id', 'date', 'overall_rating',\n",
       "       'potential', 'preferred_foot', 'attacking_work_rate',\n",
       "       'defensive_work_rate', 'crossing', 'finishing', 'heading_accuracy',\n",
       "       'short_passing', 'volleys', 'dribbling', 'curve', 'free_kick_accuracy',\n",
       "       'long_passing', 'ball_control', 'acceleration', 'sprint_speed',\n",
       "       'agility', 'reactions', 'balance', 'shot_power', 'jumping', 'stamina',\n",
       "       'strength', 'long_shots', 'aggression', 'interceptions', 'positioning',\n",
       "       'vision', 'penalties', 'marking', 'standing_tackle', 'sliding_tackle',\n",
       "       'gk_diving', 'gk_handling', 'gk_kicking', 'gk_positioning',\n",
       "       'gk_reflexes'],\n",
       "      dtype='object')"
      ]
     },
     "execution_count": 57,
     "metadata": {},
     "output_type": "execute_result"
    }
   ],
   "source": [
    "# Columns of dataframe df1\n",
    "df1.columns"
   ]
  },
  {
   "cell_type": "code",
   "execution_count": 58,
   "metadata": {
    "colab": {
     "autoexec": {
      "startup": false,
      "wait_interval": 0
     }
    },
    "colab_type": "code",
    "id": "UfUi1TtP0JNV"
   },
   "outputs": [],
   "source": [
    "df1 = df1.drop([\"id\", \"player_fifa_api_id\", \"player_api_id\"], axis = 1) #Dropping id, player_fifa_api_id and player_api_id columns "
   ]
  },
  {
   "cell_type": "code",
   "execution_count": 59,
   "metadata": {
    "colab": {
     "autoexec": {
      "startup": false,
      "wait_interval": 0
     },
     "base_uri": "https://localhost:8080/",
     "height": 194
    },
    "colab_type": "code",
    "executionInfo": {
     "elapsed": 5582,
     "status": "ok",
     "timestamp": 1533168026993,
     "user": {
      "displayName": "Abhishek Kumar Gupta",
      "photoUrl": "//lh6.googleusercontent.com/-fpn6mF4EqQo/AAAAAAAAAAI/AAAAAAAAANs/sxPIjRwi5JI/s50-c-k-no/photo.jpg",
      "userId": "115467584731929004754"
     },
     "user_tz": -330
    },
    "id": "QJ8_Y50C0JNh",
    "outputId": "c4ae6d2e-2a1c-432d-dfa9-9b85e6fcf6a1"
   },
   "outputs": [
    {
     "data": {
      "text/plain": [
       "Index(['date', 'overall_rating', 'potential', 'preferred_foot',\n",
       "       'attacking_work_rate', 'defensive_work_rate', 'crossing', 'finishing',\n",
       "       'heading_accuracy', 'short_passing', 'volleys', 'dribbling', 'curve',\n",
       "       'free_kick_accuracy', 'long_passing', 'ball_control', 'acceleration',\n",
       "       'sprint_speed', 'agility', 'reactions', 'balance', 'shot_power',\n",
       "       'jumping', 'stamina', 'strength', 'long_shots', 'aggression',\n",
       "       'interceptions', 'positioning', 'vision', 'penalties', 'marking',\n",
       "       'standing_tackle', 'sliding_tackle', 'gk_diving', 'gk_handling',\n",
       "       'gk_kicking', 'gk_positioning', 'gk_reflexes'],\n",
       "      dtype='object')"
      ]
     },
     "execution_count": 59,
     "metadata": {},
     "output_type": "execute_result"
    }
   ],
   "source": [
    "# Columns of dataframe df1\n",
    "df1.columns"
   ]
  },
  {
   "cell_type": "code",
   "execution_count": 60,
   "metadata": {
    "colab": {
     "autoexec": {
      "startup": false,
      "wait_interval": 0
     },
     "base_uri": "https://localhost:8080/",
     "height": 54
    },
    "colab_type": "code",
    "executionInfo": {
     "elapsed": 730,
     "status": "ok",
     "timestamp": 1533168030021,
     "user": {
      "displayName": "Abhishek Kumar Gupta",
      "photoUrl": "//lh6.googleusercontent.com/-fpn6mF4EqQo/AAAAAAAAAAI/AAAAAAAAANs/sxPIjRwi5JI/s50-c-k-no/photo.jpg",
      "userId": "115467584731929004754"
     },
     "user_tz": -330
    },
    "id": "axquWmCJ0JN_",
    "outputId": "c0d530a2-c1ee-4793-e7d0-6e94c51cd046"
   },
   "outputs": [
    {
     "name": "stdout",
     "output_type": "stream",
     "text": [
      "['overall_rating', 'potential', 'preferred_foot', 'attacking_work_rate', 'defensive_work_rate', 'crossing', 'finishing', 'heading_accuracy', 'short_passing', 'volleys', 'dribbling', 'curve', 'free_kick_accuracy', 'long_passing', 'ball_control', 'acceleration', 'sprint_speed', 'agility', 'reactions', 'balance', 'shot_power', 'jumping', 'stamina', 'strength', 'long_shots', 'aggression', 'interceptions', 'positioning', 'vision', 'penalties', 'marking', 'standing_tackle', 'sliding_tackle', 'gk_diving', 'gk_handling', 'gk_kicking', 'gk_positioning', 'gk_reflexes']\n"
     ]
    }
   ],
   "source": [
    "clms = list(df1.columns[1:]) # Listing the columns of dataframe df1 starting from 2nd column\n",
    "print(clms) # Printing clms list "
   ]
  },
  {
   "cell_type": "code",
   "execution_count": 61,
   "metadata": {
    "colab": {
     "autoexec": {
      "startup": false,
      "wait_interval": 0
     },
     "base_uri": "https://localhost:8080/",
     "height": 34
    },
    "colab_type": "code",
    "executionInfo": {
     "elapsed": 1060,
     "status": "ok",
     "timestamp": 1533168031840,
     "user": {
      "displayName": "Abhishek Kumar Gupta",
      "photoUrl": "//lh6.googleusercontent.com/-fpn6mF4EqQo/AAAAAAAAAAI/AAAAAAAAANs/sxPIjRwi5JI/s50-c-k-no/photo.jpg",
      "userId": "115467584731929004754"
     },
     "user_tz": -330
    },
    "id": "ygFoNGkC0JOV",
    "outputId": "36831455-3379-49a7-837f-97761bb214b0"
   },
   "outputs": [
    {
     "data": {
      "text/plain": [
       "38"
      ]
     },
     "execution_count": 61,
     "metadata": {},
     "output_type": "execute_result"
    }
   ],
   "source": [
    "len(clms) # Lenth of the clms list"
   ]
  },
  {
   "cell_type": "markdown",
   "metadata": {
    "colab_type": "text",
    "id": "WNbbwlRT0JOt"
   },
   "source": [
    "## Data Visualization"
   ]
  },
  {
   "cell_type": "markdown",
   "metadata": {},
   "source": [
    "### Histogram"
   ]
  },
  {
   "cell_type": "code",
   "execution_count": 62,
   "metadata": {},
   "outputs": [
    {
     "data": {
      "text/html": [
       "<div>\n",
       "<style scoped>\n",
       "    .dataframe tbody tr th:only-of-type {\n",
       "        vertical-align: middle;\n",
       "    }\n",
       "\n",
       "    .dataframe tbody tr th {\n",
       "        vertical-align: top;\n",
       "    }\n",
       "\n",
       "    .dataframe thead th {\n",
       "        text-align: right;\n",
       "    }\n",
       "</style>\n",
       "<table border=\"1\" class=\"dataframe\">\n",
       "  <thead>\n",
       "    <tr style=\"text-align: right;\">\n",
       "      <th></th>\n",
       "      <th>date</th>\n",
       "      <th>overall_rating</th>\n",
       "      <th>potential</th>\n",
       "      <th>preferred_foot</th>\n",
       "      <th>attacking_work_rate</th>\n",
       "      <th>defensive_work_rate</th>\n",
       "      <th>crossing</th>\n",
       "      <th>finishing</th>\n",
       "      <th>heading_accuracy</th>\n",
       "      <th>short_passing</th>\n",
       "      <th>...</th>\n",
       "      <th>vision</th>\n",
       "      <th>penalties</th>\n",
       "      <th>marking</th>\n",
       "      <th>standing_tackle</th>\n",
       "      <th>sliding_tackle</th>\n",
       "      <th>gk_diving</th>\n",
       "      <th>gk_handling</th>\n",
       "      <th>gk_kicking</th>\n",
       "      <th>gk_positioning</th>\n",
       "      <th>gk_reflexes</th>\n",
       "    </tr>\n",
       "  </thead>\n",
       "  <tbody>\n",
       "    <tr>\n",
       "      <th>0</th>\n",
       "      <td>2016-02-18 00:00:00</td>\n",
       "      <td>67.0</td>\n",
       "      <td>71.0</td>\n",
       "      <td>right</td>\n",
       "      <td>medium</td>\n",
       "      <td>medium</td>\n",
       "      <td>49.0</td>\n",
       "      <td>44.0</td>\n",
       "      <td>71.0</td>\n",
       "      <td>61.0</td>\n",
       "      <td>...</td>\n",
       "      <td>54.0</td>\n",
       "      <td>48.0</td>\n",
       "      <td>65.0</td>\n",
       "      <td>69.0</td>\n",
       "      <td>69.0</td>\n",
       "      <td>6.0</td>\n",
       "      <td>11.0</td>\n",
       "      <td>10.0</td>\n",
       "      <td>8.0</td>\n",
       "      <td>8.0</td>\n",
       "    </tr>\n",
       "    <tr>\n",
       "      <th>1</th>\n",
       "      <td>2015-11-19 00:00:00</td>\n",
       "      <td>67.0</td>\n",
       "      <td>71.0</td>\n",
       "      <td>right</td>\n",
       "      <td>medium</td>\n",
       "      <td>medium</td>\n",
       "      <td>49.0</td>\n",
       "      <td>44.0</td>\n",
       "      <td>71.0</td>\n",
       "      <td>61.0</td>\n",
       "      <td>...</td>\n",
       "      <td>54.0</td>\n",
       "      <td>48.0</td>\n",
       "      <td>65.0</td>\n",
       "      <td>69.0</td>\n",
       "      <td>69.0</td>\n",
       "      <td>6.0</td>\n",
       "      <td>11.0</td>\n",
       "      <td>10.0</td>\n",
       "      <td>8.0</td>\n",
       "      <td>8.0</td>\n",
       "    </tr>\n",
       "    <tr>\n",
       "      <th>2</th>\n",
       "      <td>2015-09-21 00:00:00</td>\n",
       "      <td>62.0</td>\n",
       "      <td>66.0</td>\n",
       "      <td>right</td>\n",
       "      <td>medium</td>\n",
       "      <td>medium</td>\n",
       "      <td>49.0</td>\n",
       "      <td>44.0</td>\n",
       "      <td>71.0</td>\n",
       "      <td>61.0</td>\n",
       "      <td>...</td>\n",
       "      <td>54.0</td>\n",
       "      <td>48.0</td>\n",
       "      <td>65.0</td>\n",
       "      <td>66.0</td>\n",
       "      <td>69.0</td>\n",
       "      <td>6.0</td>\n",
       "      <td>11.0</td>\n",
       "      <td>10.0</td>\n",
       "      <td>8.0</td>\n",
       "      <td>8.0</td>\n",
       "    </tr>\n",
       "    <tr>\n",
       "      <th>3</th>\n",
       "      <td>2015-03-20 00:00:00</td>\n",
       "      <td>61.0</td>\n",
       "      <td>65.0</td>\n",
       "      <td>right</td>\n",
       "      <td>medium</td>\n",
       "      <td>medium</td>\n",
       "      <td>48.0</td>\n",
       "      <td>43.0</td>\n",
       "      <td>70.0</td>\n",
       "      <td>60.0</td>\n",
       "      <td>...</td>\n",
       "      <td>53.0</td>\n",
       "      <td>47.0</td>\n",
       "      <td>62.0</td>\n",
       "      <td>63.0</td>\n",
       "      <td>66.0</td>\n",
       "      <td>5.0</td>\n",
       "      <td>10.0</td>\n",
       "      <td>9.0</td>\n",
       "      <td>7.0</td>\n",
       "      <td>7.0</td>\n",
       "    </tr>\n",
       "    <tr>\n",
       "      <th>4</th>\n",
       "      <td>2007-02-22 00:00:00</td>\n",
       "      <td>61.0</td>\n",
       "      <td>65.0</td>\n",
       "      <td>right</td>\n",
       "      <td>medium</td>\n",
       "      <td>medium</td>\n",
       "      <td>48.0</td>\n",
       "      <td>43.0</td>\n",
       "      <td>70.0</td>\n",
       "      <td>60.0</td>\n",
       "      <td>...</td>\n",
       "      <td>53.0</td>\n",
       "      <td>47.0</td>\n",
       "      <td>62.0</td>\n",
       "      <td>63.0</td>\n",
       "      <td>66.0</td>\n",
       "      <td>5.0</td>\n",
       "      <td>10.0</td>\n",
       "      <td>9.0</td>\n",
       "      <td>7.0</td>\n",
       "      <td>7.0</td>\n",
       "    </tr>\n",
       "    <tr>\n",
       "      <th>5</th>\n",
       "      <td>2016-04-21 00:00:00</td>\n",
       "      <td>74.0</td>\n",
       "      <td>76.0</td>\n",
       "      <td>left</td>\n",
       "      <td>high</td>\n",
       "      <td>medium</td>\n",
       "      <td>80.0</td>\n",
       "      <td>53.0</td>\n",
       "      <td>58.0</td>\n",
       "      <td>71.0</td>\n",
       "      <td>...</td>\n",
       "      <td>66.0</td>\n",
       "      <td>59.0</td>\n",
       "      <td>76.0</td>\n",
       "      <td>75.0</td>\n",
       "      <td>78.0</td>\n",
       "      <td>14.0</td>\n",
       "      <td>7.0</td>\n",
       "      <td>9.0</td>\n",
       "      <td>9.0</td>\n",
       "      <td>12.0</td>\n",
       "    </tr>\n",
       "    <tr>\n",
       "      <th>6</th>\n",
       "      <td>2016-04-07 00:00:00</td>\n",
       "      <td>74.0</td>\n",
       "      <td>76.0</td>\n",
       "      <td>left</td>\n",
       "      <td>high</td>\n",
       "      <td>medium</td>\n",
       "      <td>80.0</td>\n",
       "      <td>53.0</td>\n",
       "      <td>58.0</td>\n",
       "      <td>71.0</td>\n",
       "      <td>...</td>\n",
       "      <td>66.0</td>\n",
       "      <td>59.0</td>\n",
       "      <td>76.0</td>\n",
       "      <td>75.0</td>\n",
       "      <td>78.0</td>\n",
       "      <td>14.0</td>\n",
       "      <td>7.0</td>\n",
       "      <td>9.0</td>\n",
       "      <td>9.0</td>\n",
       "      <td>12.0</td>\n",
       "    </tr>\n",
       "    <tr>\n",
       "      <th>7</th>\n",
       "      <td>2016-01-07 00:00:00</td>\n",
       "      <td>73.0</td>\n",
       "      <td>75.0</td>\n",
       "      <td>left</td>\n",
       "      <td>high</td>\n",
       "      <td>medium</td>\n",
       "      <td>79.0</td>\n",
       "      <td>52.0</td>\n",
       "      <td>57.0</td>\n",
       "      <td>70.0</td>\n",
       "      <td>...</td>\n",
       "      <td>65.0</td>\n",
       "      <td>59.0</td>\n",
       "      <td>76.0</td>\n",
       "      <td>75.0</td>\n",
       "      <td>78.0</td>\n",
       "      <td>14.0</td>\n",
       "      <td>7.0</td>\n",
       "      <td>9.0</td>\n",
       "      <td>9.0</td>\n",
       "      <td>12.0</td>\n",
       "    </tr>\n",
       "    <tr>\n",
       "      <th>8</th>\n",
       "      <td>2015-12-24 00:00:00</td>\n",
       "      <td>73.0</td>\n",
       "      <td>75.0</td>\n",
       "      <td>left</td>\n",
       "      <td>high</td>\n",
       "      <td>medium</td>\n",
       "      <td>79.0</td>\n",
       "      <td>51.0</td>\n",
       "      <td>57.0</td>\n",
       "      <td>70.0</td>\n",
       "      <td>...</td>\n",
       "      <td>65.0</td>\n",
       "      <td>59.0</td>\n",
       "      <td>76.0</td>\n",
       "      <td>75.0</td>\n",
       "      <td>78.0</td>\n",
       "      <td>14.0</td>\n",
       "      <td>7.0</td>\n",
       "      <td>9.0</td>\n",
       "      <td>9.0</td>\n",
       "      <td>12.0</td>\n",
       "    </tr>\n",
       "    <tr>\n",
       "      <th>9</th>\n",
       "      <td>2015-12-17 00:00:00</td>\n",
       "      <td>73.0</td>\n",
       "      <td>75.0</td>\n",
       "      <td>left</td>\n",
       "      <td>high</td>\n",
       "      <td>medium</td>\n",
       "      <td>79.0</td>\n",
       "      <td>51.0</td>\n",
       "      <td>57.0</td>\n",
       "      <td>70.0</td>\n",
       "      <td>...</td>\n",
       "      <td>65.0</td>\n",
       "      <td>59.0</td>\n",
       "      <td>76.0</td>\n",
       "      <td>75.0</td>\n",
       "      <td>78.0</td>\n",
       "      <td>14.0</td>\n",
       "      <td>7.0</td>\n",
       "      <td>9.0</td>\n",
       "      <td>9.0</td>\n",
       "      <td>12.0</td>\n",
       "    </tr>\n",
       "    <tr>\n",
       "      <th>10</th>\n",
       "      <td>2015-10-16 00:00:00</td>\n",
       "      <td>73.0</td>\n",
       "      <td>77.0</td>\n",
       "      <td>left</td>\n",
       "      <td>high</td>\n",
       "      <td>medium</td>\n",
       "      <td>79.0</td>\n",
       "      <td>51.0</td>\n",
       "      <td>57.0</td>\n",
       "      <td>70.0</td>\n",
       "      <td>...</td>\n",
       "      <td>65.0</td>\n",
       "      <td>59.0</td>\n",
       "      <td>76.0</td>\n",
       "      <td>75.0</td>\n",
       "      <td>78.0</td>\n",
       "      <td>14.0</td>\n",
       "      <td>7.0</td>\n",
       "      <td>9.0</td>\n",
       "      <td>9.0</td>\n",
       "      <td>12.0</td>\n",
       "    </tr>\n",
       "    <tr>\n",
       "      <th>11</th>\n",
       "      <td>2015-09-25 00:00:00</td>\n",
       "      <td>74.0</td>\n",
       "      <td>78.0</td>\n",
       "      <td>left</td>\n",
       "      <td>high</td>\n",
       "      <td>medium</td>\n",
       "      <td>79.0</td>\n",
       "      <td>51.0</td>\n",
       "      <td>57.0</td>\n",
       "      <td>70.0</td>\n",
       "      <td>...</td>\n",
       "      <td>65.0</td>\n",
       "      <td>59.0</td>\n",
       "      <td>76.0</td>\n",
       "      <td>75.0</td>\n",
       "      <td>78.0</td>\n",
       "      <td>14.0</td>\n",
       "      <td>7.0</td>\n",
       "      <td>9.0</td>\n",
       "      <td>9.0</td>\n",
       "      <td>12.0</td>\n",
       "    </tr>\n",
       "    <tr>\n",
       "      <th>12</th>\n",
       "      <td>2015-09-21 00:00:00</td>\n",
       "      <td>73.0</td>\n",
       "      <td>77.0</td>\n",
       "      <td>left</td>\n",
       "      <td>medium</td>\n",
       "      <td>medium</td>\n",
       "      <td>79.0</td>\n",
       "      <td>51.0</td>\n",
       "      <td>57.0</td>\n",
       "      <td>70.0</td>\n",
       "      <td>...</td>\n",
       "      <td>65.0</td>\n",
       "      <td>59.0</td>\n",
       "      <td>76.0</td>\n",
       "      <td>75.0</td>\n",
       "      <td>78.0</td>\n",
       "      <td>14.0</td>\n",
       "      <td>7.0</td>\n",
       "      <td>9.0</td>\n",
       "      <td>9.0</td>\n",
       "      <td>12.0</td>\n",
       "    </tr>\n",
       "    <tr>\n",
       "      <th>13</th>\n",
       "      <td>2015-01-09 00:00:00</td>\n",
       "      <td>71.0</td>\n",
       "      <td>75.0</td>\n",
       "      <td>left</td>\n",
       "      <td>medium</td>\n",
       "      <td>medium</td>\n",
       "      <td>78.0</td>\n",
       "      <td>50.0</td>\n",
       "      <td>56.0</td>\n",
       "      <td>69.0</td>\n",
       "      <td>...</td>\n",
       "      <td>64.0</td>\n",
       "      <td>58.0</td>\n",
       "      <td>73.0</td>\n",
       "      <td>72.0</td>\n",
       "      <td>72.0</td>\n",
       "      <td>13.0</td>\n",
       "      <td>6.0</td>\n",
       "      <td>8.0</td>\n",
       "      <td>8.0</td>\n",
       "      <td>11.0</td>\n",
       "    </tr>\n",
       "    <tr>\n",
       "      <th>14</th>\n",
       "      <td>2014-12-05 00:00:00</td>\n",
       "      <td>71.0</td>\n",
       "      <td>77.0</td>\n",
       "      <td>left</td>\n",
       "      <td>medium</td>\n",
       "      <td>medium</td>\n",
       "      <td>78.0</td>\n",
       "      <td>50.0</td>\n",
       "      <td>56.0</td>\n",
       "      <td>69.0</td>\n",
       "      <td>...</td>\n",
       "      <td>64.0</td>\n",
       "      <td>58.0</td>\n",
       "      <td>73.0</td>\n",
       "      <td>72.0</td>\n",
       "      <td>72.0</td>\n",
       "      <td>13.0</td>\n",
       "      <td>6.0</td>\n",
       "      <td>8.0</td>\n",
       "      <td>8.0</td>\n",
       "      <td>11.0</td>\n",
       "    </tr>\n",
       "    <tr>\n",
       "      <th>15</th>\n",
       "      <td>2014-11-07 00:00:00</td>\n",
       "      <td>71.0</td>\n",
       "      <td>77.0</td>\n",
       "      <td>left</td>\n",
       "      <td>medium</td>\n",
       "      <td>medium</td>\n",
       "      <td>78.0</td>\n",
       "      <td>50.0</td>\n",
       "      <td>56.0</td>\n",
       "      <td>69.0</td>\n",
       "      <td>...</td>\n",
       "      <td>64.0</td>\n",
       "      <td>58.0</td>\n",
       "      <td>73.0</td>\n",
       "      <td>72.0</td>\n",
       "      <td>72.0</td>\n",
       "      <td>13.0</td>\n",
       "      <td>6.0</td>\n",
       "      <td>8.0</td>\n",
       "      <td>8.0</td>\n",
       "      <td>11.0</td>\n",
       "    </tr>\n",
       "    <tr>\n",
       "      <th>16</th>\n",
       "      <td>2014-09-18 00:00:00</td>\n",
       "      <td>70.0</td>\n",
       "      <td>77.0</td>\n",
       "      <td>left</td>\n",
       "      <td>medium</td>\n",
       "      <td>medium</td>\n",
       "      <td>77.0</td>\n",
       "      <td>50.0</td>\n",
       "      <td>51.0</td>\n",
       "      <td>67.0</td>\n",
       "      <td>...</td>\n",
       "      <td>64.0</td>\n",
       "      <td>58.0</td>\n",
       "      <td>73.0</td>\n",
       "      <td>72.0</td>\n",
       "      <td>72.0</td>\n",
       "      <td>13.0</td>\n",
       "      <td>6.0</td>\n",
       "      <td>8.0</td>\n",
       "      <td>8.0</td>\n",
       "      <td>11.0</td>\n",
       "    </tr>\n",
       "    <tr>\n",
       "      <th>17</th>\n",
       "      <td>2014-05-02 00:00:00</td>\n",
       "      <td>70.0</td>\n",
       "      <td>79.0</td>\n",
       "      <td>left</td>\n",
       "      <td>medium</td>\n",
       "      <td>medium</td>\n",
       "      <td>77.0</td>\n",
       "      <td>50.0</td>\n",
       "      <td>51.0</td>\n",
       "      <td>67.0</td>\n",
       "      <td>...</td>\n",
       "      <td>64.0</td>\n",
       "      <td>58.0</td>\n",
       "      <td>73.0</td>\n",
       "      <td>72.0</td>\n",
       "      <td>72.0</td>\n",
       "      <td>13.0</td>\n",
       "      <td>6.0</td>\n",
       "      <td>8.0</td>\n",
       "      <td>8.0</td>\n",
       "      <td>11.0</td>\n",
       "    </tr>\n",
       "    <tr>\n",
       "      <th>18</th>\n",
       "      <td>2014-04-04 00:00:00</td>\n",
       "      <td>70.0</td>\n",
       "      <td>79.0</td>\n",
       "      <td>left</td>\n",
       "      <td>medium</td>\n",
       "      <td>medium</td>\n",
       "      <td>77.0</td>\n",
       "      <td>50.0</td>\n",
       "      <td>51.0</td>\n",
       "      <td>67.0</td>\n",
       "      <td>...</td>\n",
       "      <td>64.0</td>\n",
       "      <td>58.0</td>\n",
       "      <td>73.0</td>\n",
       "      <td>72.0</td>\n",
       "      <td>72.0</td>\n",
       "      <td>13.0</td>\n",
       "      <td>6.0</td>\n",
       "      <td>8.0</td>\n",
       "      <td>8.0</td>\n",
       "      <td>11.0</td>\n",
       "    </tr>\n",
       "    <tr>\n",
       "      <th>19</th>\n",
       "      <td>2014-03-14 00:00:00</td>\n",
       "      <td>70.0</td>\n",
       "      <td>79.0</td>\n",
       "      <td>left</td>\n",
       "      <td>medium</td>\n",
       "      <td>medium</td>\n",
       "      <td>77.0</td>\n",
       "      <td>50.0</td>\n",
       "      <td>51.0</td>\n",
       "      <td>67.0</td>\n",
       "      <td>...</td>\n",
       "      <td>61.0</td>\n",
       "      <td>58.0</td>\n",
       "      <td>73.0</td>\n",
       "      <td>72.0</td>\n",
       "      <td>72.0</td>\n",
       "      <td>13.0</td>\n",
       "      <td>6.0</td>\n",
       "      <td>8.0</td>\n",
       "      <td>8.0</td>\n",
       "      <td>11.0</td>\n",
       "    </tr>\n",
       "    <tr>\n",
       "      <th>20</th>\n",
       "      <td>2013-12-13 00:00:00</td>\n",
       "      <td>70.0</td>\n",
       "      <td>79.0</td>\n",
       "      <td>left</td>\n",
       "      <td>medium</td>\n",
       "      <td>medium</td>\n",
       "      <td>77.0</td>\n",
       "      <td>50.0</td>\n",
       "      <td>51.0</td>\n",
       "      <td>67.0</td>\n",
       "      <td>...</td>\n",
       "      <td>61.0</td>\n",
       "      <td>58.0</td>\n",
       "      <td>73.0</td>\n",
       "      <td>72.0</td>\n",
       "      <td>72.0</td>\n",
       "      <td>13.0</td>\n",
       "      <td>6.0</td>\n",
       "      <td>8.0</td>\n",
       "      <td>8.0</td>\n",
       "      <td>11.0</td>\n",
       "    </tr>\n",
       "    <tr>\n",
       "      <th>21</th>\n",
       "      <td>2013-11-08 00:00:00</td>\n",
       "      <td>70.0</td>\n",
       "      <td>79.0</td>\n",
       "      <td>left</td>\n",
       "      <td>medium</td>\n",
       "      <td>medium</td>\n",
       "      <td>77.0</td>\n",
       "      <td>50.0</td>\n",
       "      <td>51.0</td>\n",
       "      <td>67.0</td>\n",
       "      <td>...</td>\n",
       "      <td>61.0</td>\n",
       "      <td>58.0</td>\n",
       "      <td>73.0</td>\n",
       "      <td>72.0</td>\n",
       "      <td>72.0</td>\n",
       "      <td>13.0</td>\n",
       "      <td>6.0</td>\n",
       "      <td>8.0</td>\n",
       "      <td>8.0</td>\n",
       "      <td>11.0</td>\n",
       "    </tr>\n",
       "    <tr>\n",
       "      <th>22</th>\n",
       "      <td>2013-10-04 00:00:00</td>\n",
       "      <td>69.0</td>\n",
       "      <td>79.0</td>\n",
       "      <td>left</td>\n",
       "      <td>medium</td>\n",
       "      <td>medium</td>\n",
       "      <td>77.0</td>\n",
       "      <td>50.0</td>\n",
       "      <td>50.0</td>\n",
       "      <td>64.0</td>\n",
       "      <td>...</td>\n",
       "      <td>58.0</td>\n",
       "      <td>58.0</td>\n",
       "      <td>73.0</td>\n",
       "      <td>72.0</td>\n",
       "      <td>72.0</td>\n",
       "      <td>13.0</td>\n",
       "      <td>6.0</td>\n",
       "      <td>8.0</td>\n",
       "      <td>8.0</td>\n",
       "      <td>11.0</td>\n",
       "    </tr>\n",
       "    <tr>\n",
       "      <th>23</th>\n",
       "      <td>2013-09-20 00:00:00</td>\n",
       "      <td>69.0</td>\n",
       "      <td>79.0</td>\n",
       "      <td>left</td>\n",
       "      <td>medium</td>\n",
       "      <td>medium</td>\n",
       "      <td>77.0</td>\n",
       "      <td>50.0</td>\n",
       "      <td>50.0</td>\n",
       "      <td>64.0</td>\n",
       "      <td>...</td>\n",
       "      <td>58.0</td>\n",
       "      <td>58.0</td>\n",
       "      <td>73.0</td>\n",
       "      <td>72.0</td>\n",
       "      <td>72.0</td>\n",
       "      <td>13.0</td>\n",
       "      <td>6.0</td>\n",
       "      <td>8.0</td>\n",
       "      <td>8.0</td>\n",
       "      <td>11.0</td>\n",
       "    </tr>\n",
       "    <tr>\n",
       "      <th>24</th>\n",
       "      <td>2013-05-03 00:00:00</td>\n",
       "      <td>69.0</td>\n",
       "      <td>80.0</td>\n",
       "      <td>left</td>\n",
       "      <td>medium</td>\n",
       "      <td>medium</td>\n",
       "      <td>77.0</td>\n",
       "      <td>50.0</td>\n",
       "      <td>50.0</td>\n",
       "      <td>64.0</td>\n",
       "      <td>...</td>\n",
       "      <td>58.0</td>\n",
       "      <td>58.0</td>\n",
       "      <td>72.0</td>\n",
       "      <td>72.0</td>\n",
       "      <td>72.0</td>\n",
       "      <td>13.0</td>\n",
       "      <td>6.0</td>\n",
       "      <td>8.0</td>\n",
       "      <td>8.0</td>\n",
       "      <td>11.0</td>\n",
       "    </tr>\n",
       "    <tr>\n",
       "      <th>25</th>\n",
       "      <td>2013-03-22 00:00:00</td>\n",
       "      <td>69.0</td>\n",
       "      <td>80.0</td>\n",
       "      <td>left</td>\n",
       "      <td>medium</td>\n",
       "      <td>medium</td>\n",
       "      <td>77.0</td>\n",
       "      <td>50.0</td>\n",
       "      <td>50.0</td>\n",
       "      <td>64.0</td>\n",
       "      <td>...</td>\n",
       "      <td>58.0</td>\n",
       "      <td>58.0</td>\n",
       "      <td>72.0</td>\n",
       "      <td>72.0</td>\n",
       "      <td>72.0</td>\n",
       "      <td>13.0</td>\n",
       "      <td>6.0</td>\n",
       "      <td>8.0</td>\n",
       "      <td>8.0</td>\n",
       "      <td>11.0</td>\n",
       "    </tr>\n",
       "    <tr>\n",
       "      <th>26</th>\n",
       "      <td>2013-03-15 00:00:00</td>\n",
       "      <td>69.0</td>\n",
       "      <td>80.0</td>\n",
       "      <td>left</td>\n",
       "      <td>medium</td>\n",
       "      <td>medium</td>\n",
       "      <td>77.0</td>\n",
       "      <td>50.0</td>\n",
       "      <td>50.0</td>\n",
       "      <td>64.0</td>\n",
       "      <td>...</td>\n",
       "      <td>58.0</td>\n",
       "      <td>58.0</td>\n",
       "      <td>72.0</td>\n",
       "      <td>72.0</td>\n",
       "      <td>72.0</td>\n",
       "      <td>13.0</td>\n",
       "      <td>6.0</td>\n",
       "      <td>8.0</td>\n",
       "      <td>8.0</td>\n",
       "      <td>11.0</td>\n",
       "    </tr>\n",
       "    <tr>\n",
       "      <th>27</th>\n",
       "      <td>2013-02-22 00:00:00</td>\n",
       "      <td>69.0</td>\n",
       "      <td>80.0</td>\n",
       "      <td>left</td>\n",
       "      <td>medium</td>\n",
       "      <td>medium</td>\n",
       "      <td>77.0</td>\n",
       "      <td>50.0</td>\n",
       "      <td>50.0</td>\n",
       "      <td>64.0</td>\n",
       "      <td>...</td>\n",
       "      <td>58.0</td>\n",
       "      <td>58.0</td>\n",
       "      <td>72.0</td>\n",
       "      <td>72.0</td>\n",
       "      <td>72.0</td>\n",
       "      <td>13.0</td>\n",
       "      <td>6.0</td>\n",
       "      <td>8.0</td>\n",
       "      <td>8.0</td>\n",
       "      <td>11.0</td>\n",
       "    </tr>\n",
       "    <tr>\n",
       "      <th>28</th>\n",
       "      <td>2013-02-15 00:00:00</td>\n",
       "      <td>69.0</td>\n",
       "      <td>80.0</td>\n",
       "      <td>left</td>\n",
       "      <td>medium</td>\n",
       "      <td>medium</td>\n",
       "      <td>77.0</td>\n",
       "      <td>50.0</td>\n",
       "      <td>50.0</td>\n",
       "      <td>64.0</td>\n",
       "      <td>...</td>\n",
       "      <td>58.0</td>\n",
       "      <td>58.0</td>\n",
       "      <td>72.0</td>\n",
       "      <td>72.0</td>\n",
       "      <td>72.0</td>\n",
       "      <td>13.0</td>\n",
       "      <td>6.0</td>\n",
       "      <td>8.0</td>\n",
       "      <td>8.0</td>\n",
       "      <td>11.0</td>\n",
       "    </tr>\n",
       "    <tr>\n",
       "      <th>29</th>\n",
       "      <td>2012-08-31 00:00:00</td>\n",
       "      <td>68.0</td>\n",
       "      <td>80.0</td>\n",
       "      <td>left</td>\n",
       "      <td>medium</td>\n",
       "      <td>medium</td>\n",
       "      <td>77.0</td>\n",
       "      <td>50.0</td>\n",
       "      <td>50.0</td>\n",
       "      <td>64.0</td>\n",
       "      <td>...</td>\n",
       "      <td>63.0</td>\n",
       "      <td>58.0</td>\n",
       "      <td>72.0</td>\n",
       "      <td>72.0</td>\n",
       "      <td>72.0</td>\n",
       "      <td>13.0</td>\n",
       "      <td>6.0</td>\n",
       "      <td>8.0</td>\n",
       "      <td>8.0</td>\n",
       "      <td>11.0</td>\n",
       "    </tr>\n",
       "    <tr>\n",
       "      <th>...</th>\n",
       "      <td>...</td>\n",
       "      <td>...</td>\n",
       "      <td>...</td>\n",
       "      <td>...</td>\n",
       "      <td>...</td>\n",
       "      <td>...</td>\n",
       "      <td>...</td>\n",
       "      <td>...</td>\n",
       "      <td>...</td>\n",
       "      <td>...</td>\n",
       "      <td>...</td>\n",
       "      <td>...</td>\n",
       "      <td>...</td>\n",
       "      <td>...</td>\n",
       "      <td>...</td>\n",
       "      <td>...</td>\n",
       "      <td>...</td>\n",
       "      <td>...</td>\n",
       "      <td>...</td>\n",
       "      <td>...</td>\n",
       "      <td>...</td>\n",
       "    </tr>\n",
       "    <tr>\n",
       "      <th>1000</th>\n",
       "      <td>2012-02-22 00:00:00</td>\n",
       "      <td>77.0</td>\n",
       "      <td>87.0</td>\n",
       "      <td>left</td>\n",
       "      <td>medium</td>\n",
       "      <td>medium</td>\n",
       "      <td>48.0</td>\n",
       "      <td>80.0</td>\n",
       "      <td>65.0</td>\n",
       "      <td>67.0</td>\n",
       "      <td>...</td>\n",
       "      <td>60.0</td>\n",
       "      <td>68.0</td>\n",
       "      <td>20.0</td>\n",
       "      <td>30.0</td>\n",
       "      <td>22.0</td>\n",
       "      <td>14.0</td>\n",
       "      <td>6.0</td>\n",
       "      <td>8.0</td>\n",
       "      <td>6.0</td>\n",
       "      <td>9.0</td>\n",
       "    </tr>\n",
       "    <tr>\n",
       "      <th>1001</th>\n",
       "      <td>2011-08-30 00:00:00</td>\n",
       "      <td>78.0</td>\n",
       "      <td>85.0</td>\n",
       "      <td>left</td>\n",
       "      <td>medium</td>\n",
       "      <td>medium</td>\n",
       "      <td>48.0</td>\n",
       "      <td>80.0</td>\n",
       "      <td>68.0</td>\n",
       "      <td>67.0</td>\n",
       "      <td>...</td>\n",
       "      <td>60.0</td>\n",
       "      <td>68.0</td>\n",
       "      <td>20.0</td>\n",
       "      <td>30.0</td>\n",
       "      <td>22.0</td>\n",
       "      <td>14.0</td>\n",
       "      <td>6.0</td>\n",
       "      <td>8.0</td>\n",
       "      <td>6.0</td>\n",
       "      <td>9.0</td>\n",
       "    </tr>\n",
       "    <tr>\n",
       "      <th>1002</th>\n",
       "      <td>2011-02-22 00:00:00</td>\n",
       "      <td>76.0</td>\n",
       "      <td>85.0</td>\n",
       "      <td>left</td>\n",
       "      <td>medium</td>\n",
       "      <td>medium</td>\n",
       "      <td>48.0</td>\n",
       "      <td>80.0</td>\n",
       "      <td>68.0</td>\n",
       "      <td>67.0</td>\n",
       "      <td>...</td>\n",
       "      <td>60.0</td>\n",
       "      <td>68.0</td>\n",
       "      <td>20.0</td>\n",
       "      <td>30.0</td>\n",
       "      <td>22.0</td>\n",
       "      <td>14.0</td>\n",
       "      <td>6.0</td>\n",
       "      <td>8.0</td>\n",
       "      <td>6.0</td>\n",
       "      <td>9.0</td>\n",
       "    </tr>\n",
       "    <tr>\n",
       "      <th>1003</th>\n",
       "      <td>2010-08-30 00:00:00</td>\n",
       "      <td>77.0</td>\n",
       "      <td>85.0</td>\n",
       "      <td>left</td>\n",
       "      <td>medium</td>\n",
       "      <td>medium</td>\n",
       "      <td>48.0</td>\n",
       "      <td>82.0</td>\n",
       "      <td>72.0</td>\n",
       "      <td>69.0</td>\n",
       "      <td>...</td>\n",
       "      <td>60.0</td>\n",
       "      <td>68.0</td>\n",
       "      <td>20.0</td>\n",
       "      <td>30.0</td>\n",
       "      <td>22.0</td>\n",
       "      <td>14.0</td>\n",
       "      <td>6.0</td>\n",
       "      <td>8.0</td>\n",
       "      <td>6.0</td>\n",
       "      <td>9.0</td>\n",
       "    </tr>\n",
       "    <tr>\n",
       "      <th>1004</th>\n",
       "      <td>2010-02-22 00:00:00</td>\n",
       "      <td>65.0</td>\n",
       "      <td>79.0</td>\n",
       "      <td>left</td>\n",
       "      <td>medium</td>\n",
       "      <td>medium</td>\n",
       "      <td>49.0</td>\n",
       "      <td>70.0</td>\n",
       "      <td>59.0</td>\n",
       "      <td>61.0</td>\n",
       "      <td>...</td>\n",
       "      <td>60.0</td>\n",
       "      <td>66.0</td>\n",
       "      <td>22.0</td>\n",
       "      <td>28.0</td>\n",
       "      <td>22.0</td>\n",
       "      <td>2.0</td>\n",
       "      <td>22.0</td>\n",
       "      <td>31.0</td>\n",
       "      <td>22.0</td>\n",
       "      <td>22.0</td>\n",
       "    </tr>\n",
       "    <tr>\n",
       "      <th>1005</th>\n",
       "      <td>2009-08-30 00:00:00</td>\n",
       "      <td>64.0</td>\n",
       "      <td>79.0</td>\n",
       "      <td>left</td>\n",
       "      <td>medium</td>\n",
       "      <td>medium</td>\n",
       "      <td>49.0</td>\n",
       "      <td>68.0</td>\n",
       "      <td>59.0</td>\n",
       "      <td>61.0</td>\n",
       "      <td>...</td>\n",
       "      <td>60.0</td>\n",
       "      <td>66.0</td>\n",
       "      <td>22.0</td>\n",
       "      <td>28.0</td>\n",
       "      <td>22.0</td>\n",
       "      <td>2.0</td>\n",
       "      <td>22.0</td>\n",
       "      <td>31.0</td>\n",
       "      <td>22.0</td>\n",
       "      <td>22.0</td>\n",
       "    </tr>\n",
       "    <tr>\n",
       "      <th>1006</th>\n",
       "      <td>2009-02-22 00:00:00</td>\n",
       "      <td>60.0</td>\n",
       "      <td>79.0</td>\n",
       "      <td>left</td>\n",
       "      <td>medium</td>\n",
       "      <td>medium</td>\n",
       "      <td>47.0</td>\n",
       "      <td>64.0</td>\n",
       "      <td>57.0</td>\n",
       "      <td>59.0</td>\n",
       "      <td>...</td>\n",
       "      <td>60.0</td>\n",
       "      <td>36.0</td>\n",
       "      <td>22.0</td>\n",
       "      <td>26.0</td>\n",
       "      <td>22.0</td>\n",
       "      <td>2.0</td>\n",
       "      <td>22.0</td>\n",
       "      <td>29.0</td>\n",
       "      <td>22.0</td>\n",
       "      <td>22.0</td>\n",
       "    </tr>\n",
       "    <tr>\n",
       "      <th>1007</th>\n",
       "      <td>2007-02-22 00:00:00</td>\n",
       "      <td>60.0</td>\n",
       "      <td>79.0</td>\n",
       "      <td>left</td>\n",
       "      <td>medium</td>\n",
       "      <td>medium</td>\n",
       "      <td>47.0</td>\n",
       "      <td>64.0</td>\n",
       "      <td>57.0</td>\n",
       "      <td>59.0</td>\n",
       "      <td>...</td>\n",
       "      <td>60.0</td>\n",
       "      <td>36.0</td>\n",
       "      <td>22.0</td>\n",
       "      <td>26.0</td>\n",
       "      <td>22.0</td>\n",
       "      <td>2.0</td>\n",
       "      <td>22.0</td>\n",
       "      <td>29.0</td>\n",
       "      <td>22.0</td>\n",
       "      <td>22.0</td>\n",
       "    </tr>\n",
       "    <tr>\n",
       "      <th>1008</th>\n",
       "      <td>2016-05-05 00:00:00</td>\n",
       "      <td>69.0</td>\n",
       "      <td>71.0</td>\n",
       "      <td>right</td>\n",
       "      <td>medium</td>\n",
       "      <td>medium</td>\n",
       "      <td>68.0</td>\n",
       "      <td>70.0</td>\n",
       "      <td>67.0</td>\n",
       "      <td>60.0</td>\n",
       "      <td>...</td>\n",
       "      <td>60.0</td>\n",
       "      <td>69.0</td>\n",
       "      <td>14.0</td>\n",
       "      <td>17.0</td>\n",
       "      <td>20.0</td>\n",
       "      <td>7.0</td>\n",
       "      <td>9.0</td>\n",
       "      <td>8.0</td>\n",
       "      <td>13.0</td>\n",
       "      <td>8.0</td>\n",
       "    </tr>\n",
       "    <tr>\n",
       "      <th>1009</th>\n",
       "      <td>2016-04-21 00:00:00</td>\n",
       "      <td>69.0</td>\n",
       "      <td>71.0</td>\n",
       "      <td>right</td>\n",
       "      <td>medium</td>\n",
       "      <td>medium</td>\n",
       "      <td>68.0</td>\n",
       "      <td>70.0</td>\n",
       "      <td>67.0</td>\n",
       "      <td>60.0</td>\n",
       "      <td>...</td>\n",
       "      <td>60.0</td>\n",
       "      <td>69.0</td>\n",
       "      <td>14.0</td>\n",
       "      <td>17.0</td>\n",
       "      <td>20.0</td>\n",
       "      <td>7.0</td>\n",
       "      <td>9.0</td>\n",
       "      <td>8.0</td>\n",
       "      <td>13.0</td>\n",
       "      <td>8.0</td>\n",
       "    </tr>\n",
       "    <tr>\n",
       "      <th>1010</th>\n",
       "      <td>2016-01-21 00:00:00</td>\n",
       "      <td>69.0</td>\n",
       "      <td>71.0</td>\n",
       "      <td>right</td>\n",
       "      <td>medium</td>\n",
       "      <td>medium</td>\n",
       "      <td>68.0</td>\n",
       "      <td>70.0</td>\n",
       "      <td>67.0</td>\n",
       "      <td>60.0</td>\n",
       "      <td>...</td>\n",
       "      <td>60.0</td>\n",
       "      <td>69.0</td>\n",
       "      <td>14.0</td>\n",
       "      <td>17.0</td>\n",
       "      <td>20.0</td>\n",
       "      <td>7.0</td>\n",
       "      <td>9.0</td>\n",
       "      <td>8.0</td>\n",
       "      <td>13.0</td>\n",
       "      <td>8.0</td>\n",
       "    </tr>\n",
       "    <tr>\n",
       "      <th>1011</th>\n",
       "      <td>2015-10-23 00:00:00</td>\n",
       "      <td>69.0</td>\n",
       "      <td>72.0</td>\n",
       "      <td>right</td>\n",
       "      <td>medium</td>\n",
       "      <td>medium</td>\n",
       "      <td>68.0</td>\n",
       "      <td>70.0</td>\n",
       "      <td>67.0</td>\n",
       "      <td>60.0</td>\n",
       "      <td>...</td>\n",
       "      <td>60.0</td>\n",
       "      <td>69.0</td>\n",
       "      <td>14.0</td>\n",
       "      <td>17.0</td>\n",
       "      <td>20.0</td>\n",
       "      <td>7.0</td>\n",
       "      <td>9.0</td>\n",
       "      <td>8.0</td>\n",
       "      <td>13.0</td>\n",
       "      <td>8.0</td>\n",
       "    </tr>\n",
       "    <tr>\n",
       "      <th>1012</th>\n",
       "      <td>2015-10-02 00:00:00</td>\n",
       "      <td>69.0</td>\n",
       "      <td>72.0</td>\n",
       "      <td>right</td>\n",
       "      <td>medium</td>\n",
       "      <td>medium</td>\n",
       "      <td>68.0</td>\n",
       "      <td>70.0</td>\n",
       "      <td>67.0</td>\n",
       "      <td>60.0</td>\n",
       "      <td>...</td>\n",
       "      <td>60.0</td>\n",
       "      <td>69.0</td>\n",
       "      <td>14.0</td>\n",
       "      <td>17.0</td>\n",
       "      <td>20.0</td>\n",
       "      <td>7.0</td>\n",
       "      <td>9.0</td>\n",
       "      <td>8.0</td>\n",
       "      <td>13.0</td>\n",
       "      <td>8.0</td>\n",
       "    </tr>\n",
       "    <tr>\n",
       "      <th>1013</th>\n",
       "      <td>2015-02-20 00:00:00</td>\n",
       "      <td>69.0</td>\n",
       "      <td>72.0</td>\n",
       "      <td>right</td>\n",
       "      <td>medium</td>\n",
       "      <td>medium</td>\n",
       "      <td>68.0</td>\n",
       "      <td>70.0</td>\n",
       "      <td>67.0</td>\n",
       "      <td>60.0</td>\n",
       "      <td>...</td>\n",
       "      <td>60.0</td>\n",
       "      <td>69.0</td>\n",
       "      <td>14.0</td>\n",
       "      <td>17.0</td>\n",
       "      <td>20.0</td>\n",
       "      <td>7.0</td>\n",
       "      <td>9.0</td>\n",
       "      <td>8.0</td>\n",
       "      <td>13.0</td>\n",
       "      <td>8.0</td>\n",
       "    </tr>\n",
       "    <tr>\n",
       "      <th>1014</th>\n",
       "      <td>2014-09-18 00:00:00</td>\n",
       "      <td>69.0</td>\n",
       "      <td>72.0</td>\n",
       "      <td>right</td>\n",
       "      <td>medium</td>\n",
       "      <td>medium</td>\n",
       "      <td>68.0</td>\n",
       "      <td>70.0</td>\n",
       "      <td>67.0</td>\n",
       "      <td>60.0</td>\n",
       "      <td>...</td>\n",
       "      <td>60.0</td>\n",
       "      <td>69.0</td>\n",
       "      <td>14.0</td>\n",
       "      <td>17.0</td>\n",
       "      <td>20.0</td>\n",
       "      <td>7.0</td>\n",
       "      <td>9.0</td>\n",
       "      <td>8.0</td>\n",
       "      <td>13.0</td>\n",
       "      <td>8.0</td>\n",
       "    </tr>\n",
       "    <tr>\n",
       "      <th>1015</th>\n",
       "      <td>2013-05-17 00:00:00</td>\n",
       "      <td>69.0</td>\n",
       "      <td>72.0</td>\n",
       "      <td>right</td>\n",
       "      <td>medium</td>\n",
       "      <td>medium</td>\n",
       "      <td>68.0</td>\n",
       "      <td>70.0</td>\n",
       "      <td>67.0</td>\n",
       "      <td>60.0</td>\n",
       "      <td>...</td>\n",
       "      <td>60.0</td>\n",
       "      <td>69.0</td>\n",
       "      <td>14.0</td>\n",
       "      <td>17.0</td>\n",
       "      <td>20.0</td>\n",
       "      <td>7.0</td>\n",
       "      <td>9.0</td>\n",
       "      <td>8.0</td>\n",
       "      <td>13.0</td>\n",
       "      <td>8.0</td>\n",
       "    </tr>\n",
       "    <tr>\n",
       "      <th>1016</th>\n",
       "      <td>2013-04-19 00:00:00</td>\n",
       "      <td>69.0</td>\n",
       "      <td>72.0</td>\n",
       "      <td>right</td>\n",
       "      <td>medium</td>\n",
       "      <td>medium</td>\n",
       "      <td>68.0</td>\n",
       "      <td>70.0</td>\n",
       "      <td>67.0</td>\n",
       "      <td>60.0</td>\n",
       "      <td>...</td>\n",
       "      <td>60.0</td>\n",
       "      <td>69.0</td>\n",
       "      <td>14.0</td>\n",
       "      <td>17.0</td>\n",
       "      <td>20.0</td>\n",
       "      <td>7.0</td>\n",
       "      <td>9.0</td>\n",
       "      <td>8.0</td>\n",
       "      <td>13.0</td>\n",
       "      <td>8.0</td>\n",
       "    </tr>\n",
       "    <tr>\n",
       "      <th>1017</th>\n",
       "      <td>2013-04-05 00:00:00</td>\n",
       "      <td>67.0</td>\n",
       "      <td>72.0</td>\n",
       "      <td>right</td>\n",
       "      <td>medium</td>\n",
       "      <td>medium</td>\n",
       "      <td>68.0</td>\n",
       "      <td>70.0</td>\n",
       "      <td>69.0</td>\n",
       "      <td>60.0</td>\n",
       "      <td>...</td>\n",
       "      <td>60.0</td>\n",
       "      <td>69.0</td>\n",
       "      <td>14.0</td>\n",
       "      <td>17.0</td>\n",
       "      <td>20.0</td>\n",
       "      <td>7.0</td>\n",
       "      <td>9.0</td>\n",
       "      <td>8.0</td>\n",
       "      <td>13.0</td>\n",
       "      <td>8.0</td>\n",
       "    </tr>\n",
       "    <tr>\n",
       "      <th>1018</th>\n",
       "      <td>2013-02-15 00:00:00</td>\n",
       "      <td>67.0</td>\n",
       "      <td>72.0</td>\n",
       "      <td>right</td>\n",
       "      <td>medium</td>\n",
       "      <td>medium</td>\n",
       "      <td>68.0</td>\n",
       "      <td>70.0</td>\n",
       "      <td>69.0</td>\n",
       "      <td>60.0</td>\n",
       "      <td>...</td>\n",
       "      <td>60.0</td>\n",
       "      <td>69.0</td>\n",
       "      <td>14.0</td>\n",
       "      <td>17.0</td>\n",
       "      <td>20.0</td>\n",
       "      <td>7.0</td>\n",
       "      <td>9.0</td>\n",
       "      <td>8.0</td>\n",
       "      <td>13.0</td>\n",
       "      <td>8.0</td>\n",
       "    </tr>\n",
       "    <tr>\n",
       "      <th>1019</th>\n",
       "      <td>2012-08-31 00:00:00</td>\n",
       "      <td>68.0</td>\n",
       "      <td>72.0</td>\n",
       "      <td>right</td>\n",
       "      <td>medium</td>\n",
       "      <td>medium</td>\n",
       "      <td>68.0</td>\n",
       "      <td>70.0</td>\n",
       "      <td>70.0</td>\n",
       "      <td>60.0</td>\n",
       "      <td>...</td>\n",
       "      <td>60.0</td>\n",
       "      <td>70.0</td>\n",
       "      <td>14.0</td>\n",
       "      <td>17.0</td>\n",
       "      <td>20.0</td>\n",
       "      <td>7.0</td>\n",
       "      <td>9.0</td>\n",
       "      <td>8.0</td>\n",
       "      <td>13.0</td>\n",
       "      <td>8.0</td>\n",
       "    </tr>\n",
       "    <tr>\n",
       "      <th>1020</th>\n",
       "      <td>2012-02-22 00:00:00</td>\n",
       "      <td>64.0</td>\n",
       "      <td>72.0</td>\n",
       "      <td>right</td>\n",
       "      <td>medium</td>\n",
       "      <td>medium</td>\n",
       "      <td>32.0</td>\n",
       "      <td>70.0</td>\n",
       "      <td>65.0</td>\n",
       "      <td>47.0</td>\n",
       "      <td>...</td>\n",
       "      <td>60.0</td>\n",
       "      <td>70.0</td>\n",
       "      <td>14.0</td>\n",
       "      <td>17.0</td>\n",
       "      <td>20.0</td>\n",
       "      <td>7.0</td>\n",
       "      <td>9.0</td>\n",
       "      <td>8.0</td>\n",
       "      <td>13.0</td>\n",
       "      <td>8.0</td>\n",
       "    </tr>\n",
       "    <tr>\n",
       "      <th>1021</th>\n",
       "      <td>2007-02-22 00:00:00</td>\n",
       "      <td>64.0</td>\n",
       "      <td>72.0</td>\n",
       "      <td>right</td>\n",
       "      <td>medium</td>\n",
       "      <td>medium</td>\n",
       "      <td>32.0</td>\n",
       "      <td>70.0</td>\n",
       "      <td>65.0</td>\n",
       "      <td>47.0</td>\n",
       "      <td>...</td>\n",
       "      <td>60.0</td>\n",
       "      <td>70.0</td>\n",
       "      <td>14.0</td>\n",
       "      <td>17.0</td>\n",
       "      <td>20.0</td>\n",
       "      <td>7.0</td>\n",
       "      <td>9.0</td>\n",
       "      <td>8.0</td>\n",
       "      <td>13.0</td>\n",
       "      <td>8.0</td>\n",
       "    </tr>\n",
       "    <tr>\n",
       "      <th>1022</th>\n",
       "      <td>2015-03-13 00:00:00</td>\n",
       "      <td>61.0</td>\n",
       "      <td>70.0</td>\n",
       "      <td>right</td>\n",
       "      <td>medium</td>\n",
       "      <td>medium</td>\n",
       "      <td>58.0</td>\n",
       "      <td>54.0</td>\n",
       "      <td>42.0</td>\n",
       "      <td>56.0</td>\n",
       "      <td>...</td>\n",
       "      <td>52.0</td>\n",
       "      <td>61.0</td>\n",
       "      <td>22.0</td>\n",
       "      <td>30.0</td>\n",
       "      <td>31.0</td>\n",
       "      <td>14.0</td>\n",
       "      <td>11.0</td>\n",
       "      <td>14.0</td>\n",
       "      <td>12.0</td>\n",
       "      <td>12.0</td>\n",
       "    </tr>\n",
       "    <tr>\n",
       "      <th>1023</th>\n",
       "      <td>2014-09-18 00:00:00</td>\n",
       "      <td>61.0</td>\n",
       "      <td>72.0</td>\n",
       "      <td>right</td>\n",
       "      <td>medium</td>\n",
       "      <td>medium</td>\n",
       "      <td>58.0</td>\n",
       "      <td>54.0</td>\n",
       "      <td>42.0</td>\n",
       "      <td>56.0</td>\n",
       "      <td>...</td>\n",
       "      <td>52.0</td>\n",
       "      <td>61.0</td>\n",
       "      <td>22.0</td>\n",
       "      <td>30.0</td>\n",
       "      <td>31.0</td>\n",
       "      <td>14.0</td>\n",
       "      <td>11.0</td>\n",
       "      <td>14.0</td>\n",
       "      <td>12.0</td>\n",
       "      <td>12.0</td>\n",
       "    </tr>\n",
       "    <tr>\n",
       "      <th>1024</th>\n",
       "      <td>2014-04-25 00:00:00</td>\n",
       "      <td>61.0</td>\n",
       "      <td>73.0</td>\n",
       "      <td>right</td>\n",
       "      <td>medium</td>\n",
       "      <td>medium</td>\n",
       "      <td>58.0</td>\n",
       "      <td>54.0</td>\n",
       "      <td>42.0</td>\n",
       "      <td>56.0</td>\n",
       "      <td>...</td>\n",
       "      <td>52.0</td>\n",
       "      <td>61.0</td>\n",
       "      <td>22.0</td>\n",
       "      <td>30.0</td>\n",
       "      <td>31.0</td>\n",
       "      <td>14.0</td>\n",
       "      <td>11.0</td>\n",
       "      <td>14.0</td>\n",
       "      <td>12.0</td>\n",
       "      <td>12.0</td>\n",
       "    </tr>\n",
       "    <tr>\n",
       "      <th>1025</th>\n",
       "      <td>2014-02-07 00:00:00</td>\n",
       "      <td>61.0</td>\n",
       "      <td>73.0</td>\n",
       "      <td>right</td>\n",
       "      <td>medium</td>\n",
       "      <td>medium</td>\n",
       "      <td>58.0</td>\n",
       "      <td>54.0</td>\n",
       "      <td>42.0</td>\n",
       "      <td>56.0</td>\n",
       "      <td>...</td>\n",
       "      <td>52.0</td>\n",
       "      <td>61.0</td>\n",
       "      <td>22.0</td>\n",
       "      <td>30.0</td>\n",
       "      <td>31.0</td>\n",
       "      <td>14.0</td>\n",
       "      <td>11.0</td>\n",
       "      <td>14.0</td>\n",
       "      <td>12.0</td>\n",
       "      <td>12.0</td>\n",
       "    </tr>\n",
       "    <tr>\n",
       "      <th>1026</th>\n",
       "      <td>2013-02-15 00:00:00</td>\n",
       "      <td>61.0</td>\n",
       "      <td>73.0</td>\n",
       "      <td>right</td>\n",
       "      <td>medium</td>\n",
       "      <td>medium</td>\n",
       "      <td>58.0</td>\n",
       "      <td>54.0</td>\n",
       "      <td>42.0</td>\n",
       "      <td>56.0</td>\n",
       "      <td>...</td>\n",
       "      <td>52.0</td>\n",
       "      <td>61.0</td>\n",
       "      <td>22.0</td>\n",
       "      <td>30.0</td>\n",
       "      <td>31.0</td>\n",
       "      <td>14.0</td>\n",
       "      <td>11.0</td>\n",
       "      <td>14.0</td>\n",
       "      <td>12.0</td>\n",
       "      <td>12.0</td>\n",
       "    </tr>\n",
       "    <tr>\n",
       "      <th>1027</th>\n",
       "      <td>2012-08-31 00:00:00</td>\n",
       "      <td>61.0</td>\n",
       "      <td>73.0</td>\n",
       "      <td>right</td>\n",
       "      <td>medium</td>\n",
       "      <td>medium</td>\n",
       "      <td>58.0</td>\n",
       "      <td>54.0</td>\n",
       "      <td>42.0</td>\n",
       "      <td>56.0</td>\n",
       "      <td>...</td>\n",
       "      <td>52.0</td>\n",
       "      <td>61.0</td>\n",
       "      <td>22.0</td>\n",
       "      <td>30.0</td>\n",
       "      <td>31.0</td>\n",
       "      <td>14.0</td>\n",
       "      <td>11.0</td>\n",
       "      <td>14.0</td>\n",
       "      <td>12.0</td>\n",
       "      <td>12.0</td>\n",
       "    </tr>\n",
       "    <tr>\n",
       "      <th>1028</th>\n",
       "      <td>2012-02-22 00:00:00</td>\n",
       "      <td>61.0</td>\n",
       "      <td>73.0</td>\n",
       "      <td>right</td>\n",
       "      <td>medium</td>\n",
       "      <td>medium</td>\n",
       "      <td>58.0</td>\n",
       "      <td>54.0</td>\n",
       "      <td>42.0</td>\n",
       "      <td>56.0</td>\n",
       "      <td>...</td>\n",
       "      <td>52.0</td>\n",
       "      <td>61.0</td>\n",
       "      <td>22.0</td>\n",
       "      <td>30.0</td>\n",
       "      <td>31.0</td>\n",
       "      <td>14.0</td>\n",
       "      <td>11.0</td>\n",
       "      <td>14.0</td>\n",
       "      <td>12.0</td>\n",
       "      <td>12.0</td>\n",
       "    </tr>\n",
       "    <tr>\n",
       "      <th>1029</th>\n",
       "      <td>2007-02-22 00:00:00</td>\n",
       "      <td>61.0</td>\n",
       "      <td>73.0</td>\n",
       "      <td>right</td>\n",
       "      <td>medium</td>\n",
       "      <td>medium</td>\n",
       "      <td>58.0</td>\n",
       "      <td>54.0</td>\n",
       "      <td>42.0</td>\n",
       "      <td>56.0</td>\n",
       "      <td>...</td>\n",
       "      <td>52.0</td>\n",
       "      <td>61.0</td>\n",
       "      <td>22.0</td>\n",
       "      <td>30.0</td>\n",
       "      <td>31.0</td>\n",
       "      <td>14.0</td>\n",
       "      <td>11.0</td>\n",
       "      <td>14.0</td>\n",
       "      <td>12.0</td>\n",
       "      <td>12.0</td>\n",
       "    </tr>\n",
       "  </tbody>\n",
       "</table>\n",
       "<p>1000 rows × 39 columns</p>\n",
       "</div>"
      ],
      "text/plain": [
       "                     date  overall_rating  potential preferred_foot  \\\n",
       "0     2016-02-18 00:00:00            67.0       71.0          right   \n",
       "1     2015-11-19 00:00:00            67.0       71.0          right   \n",
       "2     2015-09-21 00:00:00            62.0       66.0          right   \n",
       "3     2015-03-20 00:00:00            61.0       65.0          right   \n",
       "4     2007-02-22 00:00:00            61.0       65.0          right   \n",
       "5     2016-04-21 00:00:00            74.0       76.0           left   \n",
       "6     2016-04-07 00:00:00            74.0       76.0           left   \n",
       "7     2016-01-07 00:00:00            73.0       75.0           left   \n",
       "8     2015-12-24 00:00:00            73.0       75.0           left   \n",
       "9     2015-12-17 00:00:00            73.0       75.0           left   \n",
       "10    2015-10-16 00:00:00            73.0       77.0           left   \n",
       "11    2015-09-25 00:00:00            74.0       78.0           left   \n",
       "12    2015-09-21 00:00:00            73.0       77.0           left   \n",
       "13    2015-01-09 00:00:00            71.0       75.0           left   \n",
       "14    2014-12-05 00:00:00            71.0       77.0           left   \n",
       "15    2014-11-07 00:00:00            71.0       77.0           left   \n",
       "16    2014-09-18 00:00:00            70.0       77.0           left   \n",
       "17    2014-05-02 00:00:00            70.0       79.0           left   \n",
       "18    2014-04-04 00:00:00            70.0       79.0           left   \n",
       "19    2014-03-14 00:00:00            70.0       79.0           left   \n",
       "20    2013-12-13 00:00:00            70.0       79.0           left   \n",
       "21    2013-11-08 00:00:00            70.0       79.0           left   \n",
       "22    2013-10-04 00:00:00            69.0       79.0           left   \n",
       "23    2013-09-20 00:00:00            69.0       79.0           left   \n",
       "24    2013-05-03 00:00:00            69.0       80.0           left   \n",
       "25    2013-03-22 00:00:00            69.0       80.0           left   \n",
       "26    2013-03-15 00:00:00            69.0       80.0           left   \n",
       "27    2013-02-22 00:00:00            69.0       80.0           left   \n",
       "28    2013-02-15 00:00:00            69.0       80.0           left   \n",
       "29    2012-08-31 00:00:00            68.0       80.0           left   \n",
       "...                   ...             ...        ...            ...   \n",
       "1000  2012-02-22 00:00:00            77.0       87.0           left   \n",
       "1001  2011-08-30 00:00:00            78.0       85.0           left   \n",
       "1002  2011-02-22 00:00:00            76.0       85.0           left   \n",
       "1003  2010-08-30 00:00:00            77.0       85.0           left   \n",
       "1004  2010-02-22 00:00:00            65.0       79.0           left   \n",
       "1005  2009-08-30 00:00:00            64.0       79.0           left   \n",
       "1006  2009-02-22 00:00:00            60.0       79.0           left   \n",
       "1007  2007-02-22 00:00:00            60.0       79.0           left   \n",
       "1008  2016-05-05 00:00:00            69.0       71.0          right   \n",
       "1009  2016-04-21 00:00:00            69.0       71.0          right   \n",
       "1010  2016-01-21 00:00:00            69.0       71.0          right   \n",
       "1011  2015-10-23 00:00:00            69.0       72.0          right   \n",
       "1012  2015-10-02 00:00:00            69.0       72.0          right   \n",
       "1013  2015-02-20 00:00:00            69.0       72.0          right   \n",
       "1014  2014-09-18 00:00:00            69.0       72.0          right   \n",
       "1015  2013-05-17 00:00:00            69.0       72.0          right   \n",
       "1016  2013-04-19 00:00:00            69.0       72.0          right   \n",
       "1017  2013-04-05 00:00:00            67.0       72.0          right   \n",
       "1018  2013-02-15 00:00:00            67.0       72.0          right   \n",
       "1019  2012-08-31 00:00:00            68.0       72.0          right   \n",
       "1020  2012-02-22 00:00:00            64.0       72.0          right   \n",
       "1021  2007-02-22 00:00:00            64.0       72.0          right   \n",
       "1022  2015-03-13 00:00:00            61.0       70.0          right   \n",
       "1023  2014-09-18 00:00:00            61.0       72.0          right   \n",
       "1024  2014-04-25 00:00:00            61.0       73.0          right   \n",
       "1025  2014-02-07 00:00:00            61.0       73.0          right   \n",
       "1026  2013-02-15 00:00:00            61.0       73.0          right   \n",
       "1027  2012-08-31 00:00:00            61.0       73.0          right   \n",
       "1028  2012-02-22 00:00:00            61.0       73.0          right   \n",
       "1029  2007-02-22 00:00:00            61.0       73.0          right   \n",
       "\n",
       "     attacking_work_rate defensive_work_rate  crossing  finishing  \\\n",
       "0                 medium              medium      49.0       44.0   \n",
       "1                 medium              medium      49.0       44.0   \n",
       "2                 medium              medium      49.0       44.0   \n",
       "3                 medium              medium      48.0       43.0   \n",
       "4                 medium              medium      48.0       43.0   \n",
       "5                   high              medium      80.0       53.0   \n",
       "6                   high              medium      80.0       53.0   \n",
       "7                   high              medium      79.0       52.0   \n",
       "8                   high              medium      79.0       51.0   \n",
       "9                   high              medium      79.0       51.0   \n",
       "10                  high              medium      79.0       51.0   \n",
       "11                  high              medium      79.0       51.0   \n",
       "12                medium              medium      79.0       51.0   \n",
       "13                medium              medium      78.0       50.0   \n",
       "14                medium              medium      78.0       50.0   \n",
       "15                medium              medium      78.0       50.0   \n",
       "16                medium              medium      77.0       50.0   \n",
       "17                medium              medium      77.0       50.0   \n",
       "18                medium              medium      77.0       50.0   \n",
       "19                medium              medium      77.0       50.0   \n",
       "20                medium              medium      77.0       50.0   \n",
       "21                medium              medium      77.0       50.0   \n",
       "22                medium              medium      77.0       50.0   \n",
       "23                medium              medium      77.0       50.0   \n",
       "24                medium              medium      77.0       50.0   \n",
       "25                medium              medium      77.0       50.0   \n",
       "26                medium              medium      77.0       50.0   \n",
       "27                medium              medium      77.0       50.0   \n",
       "28                medium              medium      77.0       50.0   \n",
       "29                medium              medium      77.0       50.0   \n",
       "...                  ...                 ...       ...        ...   \n",
       "1000              medium              medium      48.0       80.0   \n",
       "1001              medium              medium      48.0       80.0   \n",
       "1002              medium              medium      48.0       80.0   \n",
       "1003              medium              medium      48.0       82.0   \n",
       "1004              medium              medium      49.0       70.0   \n",
       "1005              medium              medium      49.0       68.0   \n",
       "1006              medium              medium      47.0       64.0   \n",
       "1007              medium              medium      47.0       64.0   \n",
       "1008              medium              medium      68.0       70.0   \n",
       "1009              medium              medium      68.0       70.0   \n",
       "1010              medium              medium      68.0       70.0   \n",
       "1011              medium              medium      68.0       70.0   \n",
       "1012              medium              medium      68.0       70.0   \n",
       "1013              medium              medium      68.0       70.0   \n",
       "1014              medium              medium      68.0       70.0   \n",
       "1015              medium              medium      68.0       70.0   \n",
       "1016              medium              medium      68.0       70.0   \n",
       "1017              medium              medium      68.0       70.0   \n",
       "1018              medium              medium      68.0       70.0   \n",
       "1019              medium              medium      68.0       70.0   \n",
       "1020              medium              medium      32.0       70.0   \n",
       "1021              medium              medium      32.0       70.0   \n",
       "1022              medium              medium      58.0       54.0   \n",
       "1023              medium              medium      58.0       54.0   \n",
       "1024              medium              medium      58.0       54.0   \n",
       "1025              medium              medium      58.0       54.0   \n",
       "1026              medium              medium      58.0       54.0   \n",
       "1027              medium              medium      58.0       54.0   \n",
       "1028              medium              medium      58.0       54.0   \n",
       "1029              medium              medium      58.0       54.0   \n",
       "\n",
       "      heading_accuracy  short_passing     ...       vision  penalties  \\\n",
       "0                 71.0           61.0     ...         54.0       48.0   \n",
       "1                 71.0           61.0     ...         54.0       48.0   \n",
       "2                 71.0           61.0     ...         54.0       48.0   \n",
       "3                 70.0           60.0     ...         53.0       47.0   \n",
       "4                 70.0           60.0     ...         53.0       47.0   \n",
       "5                 58.0           71.0     ...         66.0       59.0   \n",
       "6                 58.0           71.0     ...         66.0       59.0   \n",
       "7                 57.0           70.0     ...         65.0       59.0   \n",
       "8                 57.0           70.0     ...         65.0       59.0   \n",
       "9                 57.0           70.0     ...         65.0       59.0   \n",
       "10                57.0           70.0     ...         65.0       59.0   \n",
       "11                57.0           70.0     ...         65.0       59.0   \n",
       "12                57.0           70.0     ...         65.0       59.0   \n",
       "13                56.0           69.0     ...         64.0       58.0   \n",
       "14                56.0           69.0     ...         64.0       58.0   \n",
       "15                56.0           69.0     ...         64.0       58.0   \n",
       "16                51.0           67.0     ...         64.0       58.0   \n",
       "17                51.0           67.0     ...         64.0       58.0   \n",
       "18                51.0           67.0     ...         64.0       58.0   \n",
       "19                51.0           67.0     ...         61.0       58.0   \n",
       "20                51.0           67.0     ...         61.0       58.0   \n",
       "21                51.0           67.0     ...         61.0       58.0   \n",
       "22                50.0           64.0     ...         58.0       58.0   \n",
       "23                50.0           64.0     ...         58.0       58.0   \n",
       "24                50.0           64.0     ...         58.0       58.0   \n",
       "25                50.0           64.0     ...         58.0       58.0   \n",
       "26                50.0           64.0     ...         58.0       58.0   \n",
       "27                50.0           64.0     ...         58.0       58.0   \n",
       "28                50.0           64.0     ...         58.0       58.0   \n",
       "29                50.0           64.0     ...         63.0       58.0   \n",
       "...                ...            ...     ...          ...        ...   \n",
       "1000              65.0           67.0     ...         60.0       68.0   \n",
       "1001              68.0           67.0     ...         60.0       68.0   \n",
       "1002              68.0           67.0     ...         60.0       68.0   \n",
       "1003              72.0           69.0     ...         60.0       68.0   \n",
       "1004              59.0           61.0     ...         60.0       66.0   \n",
       "1005              59.0           61.0     ...         60.0       66.0   \n",
       "1006              57.0           59.0     ...         60.0       36.0   \n",
       "1007              57.0           59.0     ...         60.0       36.0   \n",
       "1008              67.0           60.0     ...         60.0       69.0   \n",
       "1009              67.0           60.0     ...         60.0       69.0   \n",
       "1010              67.0           60.0     ...         60.0       69.0   \n",
       "1011              67.0           60.0     ...         60.0       69.0   \n",
       "1012              67.0           60.0     ...         60.0       69.0   \n",
       "1013              67.0           60.0     ...         60.0       69.0   \n",
       "1014              67.0           60.0     ...         60.0       69.0   \n",
       "1015              67.0           60.0     ...         60.0       69.0   \n",
       "1016              67.0           60.0     ...         60.0       69.0   \n",
       "1017              69.0           60.0     ...         60.0       69.0   \n",
       "1018              69.0           60.0     ...         60.0       69.0   \n",
       "1019              70.0           60.0     ...         60.0       70.0   \n",
       "1020              65.0           47.0     ...         60.0       70.0   \n",
       "1021              65.0           47.0     ...         60.0       70.0   \n",
       "1022              42.0           56.0     ...         52.0       61.0   \n",
       "1023              42.0           56.0     ...         52.0       61.0   \n",
       "1024              42.0           56.0     ...         52.0       61.0   \n",
       "1025              42.0           56.0     ...         52.0       61.0   \n",
       "1026              42.0           56.0     ...         52.0       61.0   \n",
       "1027              42.0           56.0     ...         52.0       61.0   \n",
       "1028              42.0           56.0     ...         52.0       61.0   \n",
       "1029              42.0           56.0     ...         52.0       61.0   \n",
       "\n",
       "      marking  standing_tackle  sliding_tackle  gk_diving  gk_handling  \\\n",
       "0        65.0             69.0            69.0        6.0         11.0   \n",
       "1        65.0             69.0            69.0        6.0         11.0   \n",
       "2        65.0             66.0            69.0        6.0         11.0   \n",
       "3        62.0             63.0            66.0        5.0         10.0   \n",
       "4        62.0             63.0            66.0        5.0         10.0   \n",
       "5        76.0             75.0            78.0       14.0          7.0   \n",
       "6        76.0             75.0            78.0       14.0          7.0   \n",
       "7        76.0             75.0            78.0       14.0          7.0   \n",
       "8        76.0             75.0            78.0       14.0          7.0   \n",
       "9        76.0             75.0            78.0       14.0          7.0   \n",
       "10       76.0             75.0            78.0       14.0          7.0   \n",
       "11       76.0             75.0            78.0       14.0          7.0   \n",
       "12       76.0             75.0            78.0       14.0          7.0   \n",
       "13       73.0             72.0            72.0       13.0          6.0   \n",
       "14       73.0             72.0            72.0       13.0          6.0   \n",
       "15       73.0             72.0            72.0       13.0          6.0   \n",
       "16       73.0             72.0            72.0       13.0          6.0   \n",
       "17       73.0             72.0            72.0       13.0          6.0   \n",
       "18       73.0             72.0            72.0       13.0          6.0   \n",
       "19       73.0             72.0            72.0       13.0          6.0   \n",
       "20       73.0             72.0            72.0       13.0          6.0   \n",
       "21       73.0             72.0            72.0       13.0          6.0   \n",
       "22       73.0             72.0            72.0       13.0          6.0   \n",
       "23       73.0             72.0            72.0       13.0          6.0   \n",
       "24       72.0             72.0            72.0       13.0          6.0   \n",
       "25       72.0             72.0            72.0       13.0          6.0   \n",
       "26       72.0             72.0            72.0       13.0          6.0   \n",
       "27       72.0             72.0            72.0       13.0          6.0   \n",
       "28       72.0             72.0            72.0       13.0          6.0   \n",
       "29       72.0             72.0            72.0       13.0          6.0   \n",
       "...       ...              ...             ...        ...          ...   \n",
       "1000     20.0             30.0            22.0       14.0          6.0   \n",
       "1001     20.0             30.0            22.0       14.0          6.0   \n",
       "1002     20.0             30.0            22.0       14.0          6.0   \n",
       "1003     20.0             30.0            22.0       14.0          6.0   \n",
       "1004     22.0             28.0            22.0        2.0         22.0   \n",
       "1005     22.0             28.0            22.0        2.0         22.0   \n",
       "1006     22.0             26.0            22.0        2.0         22.0   \n",
       "1007     22.0             26.0            22.0        2.0         22.0   \n",
       "1008     14.0             17.0            20.0        7.0          9.0   \n",
       "1009     14.0             17.0            20.0        7.0          9.0   \n",
       "1010     14.0             17.0            20.0        7.0          9.0   \n",
       "1011     14.0             17.0            20.0        7.0          9.0   \n",
       "1012     14.0             17.0            20.0        7.0          9.0   \n",
       "1013     14.0             17.0            20.0        7.0          9.0   \n",
       "1014     14.0             17.0            20.0        7.0          9.0   \n",
       "1015     14.0             17.0            20.0        7.0          9.0   \n",
       "1016     14.0             17.0            20.0        7.0          9.0   \n",
       "1017     14.0             17.0            20.0        7.0          9.0   \n",
       "1018     14.0             17.0            20.0        7.0          9.0   \n",
       "1019     14.0             17.0            20.0        7.0          9.0   \n",
       "1020     14.0             17.0            20.0        7.0          9.0   \n",
       "1021     14.0             17.0            20.0        7.0          9.0   \n",
       "1022     22.0             30.0            31.0       14.0         11.0   \n",
       "1023     22.0             30.0            31.0       14.0         11.0   \n",
       "1024     22.0             30.0            31.0       14.0         11.0   \n",
       "1025     22.0             30.0            31.0       14.0         11.0   \n",
       "1026     22.0             30.0            31.0       14.0         11.0   \n",
       "1027     22.0             30.0            31.0       14.0         11.0   \n",
       "1028     22.0             30.0            31.0       14.0         11.0   \n",
       "1029     22.0             30.0            31.0       14.0         11.0   \n",
       "\n",
       "      gk_kicking  gk_positioning  gk_reflexes  \n",
       "0           10.0             8.0          8.0  \n",
       "1           10.0             8.0          8.0  \n",
       "2           10.0             8.0          8.0  \n",
       "3            9.0             7.0          7.0  \n",
       "4            9.0             7.0          7.0  \n",
       "5            9.0             9.0         12.0  \n",
       "6            9.0             9.0         12.0  \n",
       "7            9.0             9.0         12.0  \n",
       "8            9.0             9.0         12.0  \n",
       "9            9.0             9.0         12.0  \n",
       "10           9.0             9.0         12.0  \n",
       "11           9.0             9.0         12.0  \n",
       "12           9.0             9.0         12.0  \n",
       "13           8.0             8.0         11.0  \n",
       "14           8.0             8.0         11.0  \n",
       "15           8.0             8.0         11.0  \n",
       "16           8.0             8.0         11.0  \n",
       "17           8.0             8.0         11.0  \n",
       "18           8.0             8.0         11.0  \n",
       "19           8.0             8.0         11.0  \n",
       "20           8.0             8.0         11.0  \n",
       "21           8.0             8.0         11.0  \n",
       "22           8.0             8.0         11.0  \n",
       "23           8.0             8.0         11.0  \n",
       "24           8.0             8.0         11.0  \n",
       "25           8.0             8.0         11.0  \n",
       "26           8.0             8.0         11.0  \n",
       "27           8.0             8.0         11.0  \n",
       "28           8.0             8.0         11.0  \n",
       "29           8.0             8.0         11.0  \n",
       "...          ...             ...          ...  \n",
       "1000         8.0             6.0          9.0  \n",
       "1001         8.0             6.0          9.0  \n",
       "1002         8.0             6.0          9.0  \n",
       "1003         8.0             6.0          9.0  \n",
       "1004        31.0            22.0         22.0  \n",
       "1005        31.0            22.0         22.0  \n",
       "1006        29.0            22.0         22.0  \n",
       "1007        29.0            22.0         22.0  \n",
       "1008         8.0            13.0          8.0  \n",
       "1009         8.0            13.0          8.0  \n",
       "1010         8.0            13.0          8.0  \n",
       "1011         8.0            13.0          8.0  \n",
       "1012         8.0            13.0          8.0  \n",
       "1013         8.0            13.0          8.0  \n",
       "1014         8.0            13.0          8.0  \n",
       "1015         8.0            13.0          8.0  \n",
       "1016         8.0            13.0          8.0  \n",
       "1017         8.0            13.0          8.0  \n",
       "1018         8.0            13.0          8.0  \n",
       "1019         8.0            13.0          8.0  \n",
       "1020         8.0            13.0          8.0  \n",
       "1021         8.0            13.0          8.0  \n",
       "1022        14.0            12.0         12.0  \n",
       "1023        14.0            12.0         12.0  \n",
       "1024        14.0            12.0         12.0  \n",
       "1025        14.0            12.0         12.0  \n",
       "1026        14.0            12.0         12.0  \n",
       "1027        14.0            12.0         12.0  \n",
       "1028        14.0            12.0         12.0  \n",
       "1029        14.0            12.0         12.0  \n",
       "\n",
       "[1000 rows x 39 columns]"
      ]
     },
     "execution_count": 62,
     "metadata": {},
     "output_type": "execute_result"
    }
   ],
   "source": [
    "df2 = df1.head(1000)\n",
    "df2"
   ]
  },
  {
   "cell_type": "code",
   "execution_count": 63,
   "metadata": {},
   "outputs": [
    {
     "data": {
      "image/png": "[encoded data removed]",
      "text/plain": [
       "<Figure size 1152x864 with 40 Axes>"
      ]
     },
     "metadata": {
      "needs_background": "light"
     },
     "output_type": "display_data"
    }
   ],
   "source": [
    "fig, axes = plt.subplots(10, 4, figsize=(16, 12))\n",
    "for i,ax in enumerate(axes.flat):\n",
    "    if i < len(clms):\n",
    "        ax.hist(df2[clms[i]])\n",
    "        ax.set_title(clms[i])\n",
    "plt.tight_layout()\n",
    "plt.show()"
   ]
  },
  {
   "cell_type": "markdown",
   "metadata": {
    "colab_type": "text",
    "id": "uKSRjuuY0JPS"
   },
   "source": [
    "### Scatter Plot"
   ]
  },
  {
   "cell_type": "code",
   "execution_count": 65,
   "metadata": {
    "colab": {
     "autoexec": {
      "startup": false,
      "wait_interval": 0
     },
     "base_uri": "https://localhost:8080/",
     "height": 872
    },
    "colab_type": "code",
    "executionInfo": {
     "elapsed": 72067,
     "status": "ok",
     "timestamp": 1533168122857,
     "user": {
      "displayName": "Abhishek Kumar Gupta",
      "photoUrl": "//lh6.googleusercontent.com/-fpn6mF4EqQo/AAAAAAAAAAI/AAAAAAAAANs/sxPIjRwi5JI/s50-c-k-no/photo.jpg",
      "userId": "115467584731929004754"
     },
     "user_tz": -330
    },
    "id": "O2F_3wPo0JPY",
    "outputId": "99e9c310-1b98-4569-fa2d-e13cac2b9767"
   },
   "outputs": [
    {
     "data": {
      "image/png": "[encoded data removed]",
      "text/plain": [
       "<Figure size 1152x864 with 40 Axes>"
      ]
     },
     "metadata": {
      "needs_background": "light"
     },
     "output_type": "display_data"
    }
   ],
   "source": [
    "fig, axes = plt.subplots(10, 4, figsize=(16, 12))\n",
    "for i,ax in enumerate(axes.flat):\n",
    "    if i < len(clms)-1:\n",
    "        ax.scatter(df1[clms[i+1]], df1[clms[0]])\n",
    "        ax.set_title(clms[i+1])\n",
    "params = {'legend.fontsize': 'small',\n",
    "         'axes.labelsize': 'small',\n",
    "         'axes.titlesize':'medium',\n",
    "         'xtick.labelsize':'small',\n",
    "         'ytick.labelsize':'small'}\n",
    "plt.rcParams.update(params)\n",
    "plt.tight_layout()\n",
    "plt.show()"
   ]
  },
  {
   "cell_type": "code",
   "execution_count": 66,
   "metadata": {
    "colab": {
     "autoexec": {
      "startup": false,
      "wait_interval": 0
     },
     "base_uri": "https://localhost:8080/",
     "height": 87
    },
    "colab_type": "code",
    "executionInfo": {
     "elapsed": 894,
     "status": "ok",
     "timestamp": 1533168124358,
     "user": {
      "displayName": "Abhishek Kumar Gupta",
      "photoUrl": "//lh6.googleusercontent.com/-fpn6mF4EqQo/AAAAAAAAAAI/AAAAAAAAANs/sxPIjRwi5JI/s50-c-k-no/photo.jpg",
      "userId": "115467584731929004754"
     },
     "user_tz": -330
    },
    "id": "NUC-Ho9E0JPv",
    "outputId": "fefc023e-b075-42d9-9eaa-2ee8c0351b00"
   },
   "outputs": [
    {
     "data": {
      "text/plain": [
       "(array([3.3000e+01, 2.9200e+02, 2.0160e+03, 8.2530e+03, 2.8922e+04,\n",
       "        5.8589e+04, 5.3453e+04, 2.3470e+04, 4.9810e+03, 3.4500e+02]),\n",
       " array([33. , 39.1, 45.2, 51.3, 57.4, 63.5, 69.6, 75.7, 81.8, 87.9, 94. ]),\n",
       " <a list of 10 Patch objects>)"
      ]
     },
     "execution_count": 66,
     "metadata": {},
     "output_type": "execute_result"
    }
   ],
   "source": [
    "axes[0,0].hist(df1[clms[0]]) "
   ]
  },
  {
   "cell_type": "code",
   "execution_count": 67,
   "metadata": {
    "colab": {
     "autoexec": {
      "startup": false,
      "wait_interval": 0
     },
     "base_uri": "https://localhost:8080/",
     "height": 684
    },
    "colab_type": "code",
    "executionInfo": {
     "elapsed": 3328,
     "status": "ok",
     "timestamp": 1533168133028,
     "user": {
      "displayName": "Abhishek Kumar Gupta",
      "photoUrl": "//lh6.googleusercontent.com/-fpn6mF4EqQo/AAAAAAAAAAI/AAAAAAAAANs/sxPIjRwi5JI/s50-c-k-no/photo.jpg",
      "userId": "115467584731929004754"
     },
     "user_tz": -330
    },
    "id": "Osl5ewuE0JQa",
    "outputId": "c5eaf041-bf37-49f7-f952-aee301b2b9f2"
   },
   "outputs": [
    {
     "data": {
      "text/plain": [
       "<matplotlib.axes._subplots.AxesSubplot at 0x1bc91493780>"
      ]
     },
     "execution_count": 67,
     "metadata": {},
     "output_type": "execute_result"
    },
    {
     "data": {
      "image/png": "[encoded data removed]",
      "text/plain": [
       "<Figure size 2160x720 with 2 Axes>"
      ]
     },
     "metadata": {},
     "output_type": "display_data"
    }
   ],
   "source": [
    "# Correlation Matrix\n",
    "sns.set(style=\"white\")\n",
    "df_corr= df1[1:]\n",
    "corr = df_corr.dropna().corr() #Compute the correlation matrix\n",
    "mask = np.zeros_like(corr, dtype=np.bool) #Generate a mask \n",
    "f, ax = plt.subplots(figsize=(30, 10)) #Set up the matplotlib figure\n",
    "cmap = sns.diverging_palette(220, 10, as_cmap=True) #Generate a custom diverging colormap\n",
    "sns.heatmap(corr, mask=mask, cmap=cmap, square=True, linewidths=.5, ax=ax) #Draw the heatmap with the mask and correct aspect ratio"
   ]
  },
  {
   "cell_type": "markdown",
   "metadata": {
    "colab_type": "text",
    "id": "etlS559S0JQt"
   },
   "source": [
    "## Preparing Data for Linear Regression"
   ]
  },
  {
   "cell_type": "code",
   "execution_count": 68,
   "metadata": {
    "colab": {
     "autoexec": {
      "startup": false,
      "wait_interval": 0
     }
    },
    "colab_type": "code",
    "id": "loXpWHM-0JQy"
   },
   "outputs": [],
   "source": [
    "# Creating a new column new_date and changing the date time format\n",
    "df1.loc[:, \"new_date\"] = df1[\"date\"].apply(pd.to_datetime)"
   ]
  },
  {
   "cell_type": "code",
   "execution_count": 69,
   "metadata": {
    "colab": {
     "autoexec": {
      "startup": false,
      "wait_interval": 0
     }
    },
    "colab_type": "code",
    "id": "F_3cTL7a0JRK"
   },
   "outputs": [],
   "source": [
    "# Creating a day column and assigning the day values of new_date column\n",
    "df1.loc[:, \"day\"] = df1[\"new_date\"].apply(lambda x: x.day)"
   ]
  },
  {
   "cell_type": "code",
   "execution_count": 70,
   "metadata": {
    "colab": {
     "autoexec": {
      "startup": false,
      "wait_interval": 0
     }
    },
    "colab_type": "code",
    "id": "tWnO3yEb0JRj"
   },
   "outputs": [],
   "source": [
    "# Creating a month column and assigning the month values of new_date column\n",
    "df1.loc[:, \"month\"] = df1[\"new_date\"].apply(lambda x: x.month)"
   ]
  },
  {
   "cell_type": "code",
   "execution_count": 71,
   "metadata": {
    "colab": {
     "autoexec": {
      "startup": false,
      "wait_interval": 0
     }
    },
    "colab_type": "code",
    "id": "8rjFg12q0JSB"
   },
   "outputs": [],
   "source": [
    "# Creating a day year and assigning the year values of new_date column\n",
    "df1.loc[:, \"year\"] = df1[\"new_date\"].apply(lambda x: x.year)"
   ]
  },
  {
   "cell_type": "code",
   "execution_count": 72,
   "metadata": {
    "colab": {
     "autoexec": {
      "startup": false,
      "wait_interval": 0
     },
     "base_uri": "https://localhost:8080/",
     "height": 34
    },
    "colab_type": "code",
    "executionInfo": {
     "elapsed": 901,
     "status": "ok",
     "timestamp": 1533168158048,
     "user": {
      "displayName": "Abhishek Kumar Gupta",
      "photoUrl": "//lh6.googleusercontent.com/-fpn6mF4EqQo/AAAAAAAAAAI/AAAAAAAAANs/sxPIjRwi5JI/s50-c-k-no/photo.jpg",
      "userId": "115467584731929004754"
     },
     "user_tz": -330
    },
    "id": "Y65Ph6jJ0JSn",
    "outputId": "cba724ca-7980-4bd8-a100-04105dd8fd2a"
   },
   "outputs": [
    {
     "data": {
      "text/plain": [
       "array([2016, 2015, 2007, 2014, 2013, 2012, 2011, 2010, 2009, 2008],\n",
       "      dtype=int64)"
      ]
     },
     "execution_count": 72,
     "metadata": {},
     "output_type": "execute_result"
    }
   ],
   "source": [
    "# Unique year values of the year column\n",
    "df1[\"year\"].unique()"
   ]
  },
  {
   "cell_type": "code",
   "execution_count": 73,
   "metadata": {
    "colab": {
     "autoexec": {
      "startup": false,
      "wait_interval": 0
     }
    },
    "colab_type": "code",
    "id": "M2jzybcs0JTA"
   },
   "outputs": [],
   "source": [
    "# Catagory Column List\n",
    "cat_clms =  [\"preferred_foot\", \"attacking_work_rate\", \"defensive_work_rate\", \"year\", \"month\", \"day\"]"
   ]
  },
  {
   "cell_type": "code",
   "execution_count": 74,
   "metadata": {
    "colab": {
     "autoexec": {
      "startup": false,
      "wait_interval": 0
     },
     "base_uri": "https://localhost:8080/",
     "height": 413
    },
    "colab_type": "code",
    "executionInfo": {
     "elapsed": 1272,
     "status": "ok",
     "timestamp": 1533168162506,
     "user": {
      "displayName": "Abhishek Kumar Gupta",
      "photoUrl": "//lh6.googleusercontent.com/-fpn6mF4EqQo/AAAAAAAAAAI/AAAAAAAAANs/sxPIjRwi5JI/s50-c-k-no/photo.jpg",
      "userId": "115467584731929004754"
     },
     "user_tz": -330
    },
    "id": "igNpfBnX0JTW",
    "outputId": "ad82c07e-8d1e-453c-80db-4ca28f9ceb41"
   },
   "outputs": [
    {
     "data": {
      "text/html": [
       "<div>\n",
       "<style scoped>\n",
       "    .dataframe tbody tr th:only-of-type {\n",
       "        vertical-align: middle;\n",
       "    }\n",
       "\n",
       "    .dataframe tbody tr th {\n",
       "        vertical-align: top;\n",
       "    }\n",
       "\n",
       "    .dataframe thead th {\n",
       "        text-align: right;\n",
       "    }\n",
       "</style>\n",
       "<table border=\"1\" class=\"dataframe\">\n",
       "  <thead>\n",
       "    <tr style=\"text-align: right;\">\n",
       "      <th></th>\n",
       "      <th>date</th>\n",
       "      <th>overall_rating</th>\n",
       "      <th>potential</th>\n",
       "      <th>preferred_foot</th>\n",
       "      <th>attacking_work_rate</th>\n",
       "      <th>defensive_work_rate</th>\n",
       "      <th>crossing</th>\n",
       "      <th>finishing</th>\n",
       "      <th>heading_accuracy</th>\n",
       "      <th>short_passing</th>\n",
       "      <th>...</th>\n",
       "      <th>sliding_tackle</th>\n",
       "      <th>gk_diving</th>\n",
       "      <th>gk_handling</th>\n",
       "      <th>gk_kicking</th>\n",
       "      <th>gk_positioning</th>\n",
       "      <th>gk_reflexes</th>\n",
       "      <th>new_date</th>\n",
       "      <th>day</th>\n",
       "      <th>month</th>\n",
       "      <th>year</th>\n",
       "    </tr>\n",
       "  </thead>\n",
       "  <tbody>\n",
       "    <tr>\n",
       "      <th>0</th>\n",
       "      <td>2016-02-18 00:00:00</td>\n",
       "      <td>67.0</td>\n",
       "      <td>71.0</td>\n",
       "      <td>right</td>\n",
       "      <td>medium</td>\n",
       "      <td>medium</td>\n",
       "      <td>49.0</td>\n",
       "      <td>44.0</td>\n",
       "      <td>71.0</td>\n",
       "      <td>61.0</td>\n",
       "      <td>...</td>\n",
       "      <td>69.0</td>\n",
       "      <td>6.0</td>\n",
       "      <td>11.0</td>\n",
       "      <td>10.0</td>\n",
       "      <td>8.0</td>\n",
       "      <td>8.0</td>\n",
       "      <td>2016-02-18</td>\n",
       "      <td>18</td>\n",
       "      <td>2</td>\n",
       "      <td>2016</td>\n",
       "    </tr>\n",
       "    <tr>\n",
       "      <th>1</th>\n",
       "      <td>2015-11-19 00:00:00</td>\n",
       "      <td>67.0</td>\n",
       "      <td>71.0</td>\n",
       "      <td>right</td>\n",
       "      <td>medium</td>\n",
       "      <td>medium</td>\n",
       "      <td>49.0</td>\n",
       "      <td>44.0</td>\n",
       "      <td>71.0</td>\n",
       "      <td>61.0</td>\n",
       "      <td>...</td>\n",
       "      <td>69.0</td>\n",
       "      <td>6.0</td>\n",
       "      <td>11.0</td>\n",
       "      <td>10.0</td>\n",
       "      <td>8.0</td>\n",
       "      <td>8.0</td>\n",
       "      <td>2015-11-19</td>\n",
       "      <td>19</td>\n",
       "      <td>11</td>\n",
       "      <td>2015</td>\n",
       "    </tr>\n",
       "    <tr>\n",
       "      <th>2</th>\n",
       "      <td>2015-09-21 00:00:00</td>\n",
       "      <td>62.0</td>\n",
       "      <td>66.0</td>\n",
       "      <td>right</td>\n",
       "      <td>medium</td>\n",
       "      <td>medium</td>\n",
       "      <td>49.0</td>\n",
       "      <td>44.0</td>\n",
       "      <td>71.0</td>\n",
       "      <td>61.0</td>\n",
       "      <td>...</td>\n",
       "      <td>69.0</td>\n",
       "      <td>6.0</td>\n",
       "      <td>11.0</td>\n",
       "      <td>10.0</td>\n",
       "      <td>8.0</td>\n",
       "      <td>8.0</td>\n",
       "      <td>2015-09-21</td>\n",
       "      <td>21</td>\n",
       "      <td>9</td>\n",
       "      <td>2015</td>\n",
       "    </tr>\n",
       "    <tr>\n",
       "      <th>3</th>\n",
       "      <td>2015-03-20 00:00:00</td>\n",
       "      <td>61.0</td>\n",
       "      <td>65.0</td>\n",
       "      <td>right</td>\n",
       "      <td>medium</td>\n",
       "      <td>medium</td>\n",
       "      <td>48.0</td>\n",
       "      <td>43.0</td>\n",
       "      <td>70.0</td>\n",
       "      <td>60.0</td>\n",
       "      <td>...</td>\n",
       "      <td>66.0</td>\n",
       "      <td>5.0</td>\n",
       "      <td>10.0</td>\n",
       "      <td>9.0</td>\n",
       "      <td>7.0</td>\n",
       "      <td>7.0</td>\n",
       "      <td>2015-03-20</td>\n",
       "      <td>20</td>\n",
       "      <td>3</td>\n",
       "      <td>2015</td>\n",
       "    </tr>\n",
       "    <tr>\n",
       "      <th>4</th>\n",
       "      <td>2007-02-22 00:00:00</td>\n",
       "      <td>61.0</td>\n",
       "      <td>65.0</td>\n",
       "      <td>right</td>\n",
       "      <td>medium</td>\n",
       "      <td>medium</td>\n",
       "      <td>48.0</td>\n",
       "      <td>43.0</td>\n",
       "      <td>70.0</td>\n",
       "      <td>60.0</td>\n",
       "      <td>...</td>\n",
       "      <td>66.0</td>\n",
       "      <td>5.0</td>\n",
       "      <td>10.0</td>\n",
       "      <td>9.0</td>\n",
       "      <td>7.0</td>\n",
       "      <td>7.0</td>\n",
       "      <td>2007-02-22</td>\n",
       "      <td>22</td>\n",
       "      <td>2</td>\n",
       "      <td>2007</td>\n",
       "    </tr>\n",
       "  </tbody>\n",
       "</table>\n",
       "<p>5 rows × 43 columns</p>\n",
       "</div>"
      ],
      "text/plain": [
       "                  date  overall_rating  potential preferred_foot  \\\n",
       "0  2016-02-18 00:00:00            67.0       71.0          right   \n",
       "1  2015-11-19 00:00:00            67.0       71.0          right   \n",
       "2  2015-09-21 00:00:00            62.0       66.0          right   \n",
       "3  2015-03-20 00:00:00            61.0       65.0          right   \n",
       "4  2007-02-22 00:00:00            61.0       65.0          right   \n",
       "\n",
       "  attacking_work_rate defensive_work_rate  crossing  finishing  \\\n",
       "0              medium              medium      49.0       44.0   \n",
       "1              medium              medium      49.0       44.0   \n",
       "2              medium              medium      49.0       44.0   \n",
       "3              medium              medium      48.0       43.0   \n",
       "4              medium              medium      48.0       43.0   \n",
       "\n",
       "   heading_accuracy  short_passing  ...   sliding_tackle  gk_diving  \\\n",
       "0              71.0           61.0  ...             69.0        6.0   \n",
       "1              71.0           61.0  ...             69.0        6.0   \n",
       "2              71.0           61.0  ...             69.0        6.0   \n",
       "3              70.0           60.0  ...             66.0        5.0   \n",
       "4              70.0           60.0  ...             66.0        5.0   \n",
       "\n",
       "   gk_handling  gk_kicking  gk_positioning  gk_reflexes   new_date  day  \\\n",
       "0         11.0        10.0             8.0          8.0 2016-02-18   18   \n",
       "1         11.0        10.0             8.0          8.0 2015-11-19   19   \n",
       "2         11.0        10.0             8.0          8.0 2015-09-21   21   \n",
       "3         10.0         9.0             7.0          7.0 2015-03-20   20   \n",
       "4         10.0         9.0             7.0          7.0 2007-02-22   22   \n",
       "\n",
       "   month  year  \n",
       "0      2  2016  \n",
       "1     11  2015  \n",
       "2      9  2015  \n",
       "3      3  2015  \n",
       "4      2  2007  \n",
       "\n",
       "[5 rows x 43 columns]"
      ]
     },
     "execution_count": 74,
     "metadata": {},
     "output_type": "execute_result"
    }
   ],
   "source": [
    "# Returns the first 5 rows of dataframe df1\n",
    "df1.head()"
   ]
  },
  {
   "cell_type": "code",
   "execution_count": 75,
   "metadata": {
    "colab": {
     "autoexec": {
      "startup": false,
      "wait_interval": 0
     }
    },
    "colab_type": "code",
    "id": "4vWCHRnX0JT2"
   },
   "outputs": [],
   "source": [
    "# Dropping the date and new_date columns\n",
    "df1 =  df1.drop([\"date\", \"new_date\"], axis = 1)"
   ]
  },
  {
   "cell_type": "code",
   "execution_count": 76,
   "metadata": {
    "colab": {
     "autoexec": {
      "startup": false,
      "wait_interval": 0
     }
    },
    "colab_type": "code",
    "id": "wVmCzeiS0JUM"
   },
   "outputs": [],
   "source": [
    "for clm in cat_clms:\n",
    "    dummies = pd.get_dummies(df1[clm], prefix = clm)\n",
    "    df1 = df1.join(dummies)\n",
    "    df1 = df1.drop(clm, axis = 1)"
   ]
  },
  {
   "cell_type": "code",
   "execution_count": 77,
   "metadata": {
    "colab": {
     "autoexec": {
      "startup": false,
      "wait_interval": 0
     },
     "base_uri": "https://localhost:8080/",
     "height": 141
    },
    "colab_type": "code",
    "executionInfo": {
     "elapsed": 993,
     "status": "ok",
     "timestamp": 1533168169146,
     "user": {
      "displayName": "Abhishek Kumar Gupta",
      "photoUrl": "//lh6.googleusercontent.com/-fpn6mF4EqQo/AAAAAAAAAAI/AAAAAAAAANs/sxPIjRwi5JI/s50-c-k-no/photo.jpg",
      "userId": "115467584731929004754"
     },
     "user_tz": -330
    },
    "id": "A81tjvgr0JUh",
    "outputId": "81dc5fd4-2513-4854-8206-10f8697a3239"
   },
   "outputs": [
    {
     "data": {
      "text/plain": [
       "Index(['overall_rating', 'potential', 'crossing', 'finishing',\n",
       "       'heading_accuracy', 'short_passing', 'volleys', 'dribbling', 'curve',\n",
       "       'free_kick_accuracy',\n",
       "       ...\n",
       "       'day_22', 'day_23', 'day_24', 'day_25', 'day_26', 'day_27', 'day_28',\n",
       "       'day_29', 'day_30', 'day_31'],\n",
       "      dtype='object', length=116)"
      ]
     },
     "execution_count": 77,
     "metadata": {},
     "output_type": "execute_result"
    }
   ],
   "source": [
    "# Columns of dataframe df1\n",
    "df1.columns"
   ]
  },
  {
   "cell_type": "code",
   "execution_count": 78,
   "metadata": {
    "colab": {
     "autoexec": {
      "startup": false,
      "wait_interval": 0
     },
     "base_uri": "https://localhost:8080/",
     "height": 34
    },
    "colab_type": "code",
    "executionInfo": {
     "elapsed": 743,
     "status": "ok",
     "timestamp": 1533168171149,
     "user": {
      "displayName": "Abhishek Kumar Gupta",
      "photoUrl": "//lh6.googleusercontent.com/-fpn6mF4EqQo/AAAAAAAAAAI/AAAAAAAAANs/sxPIjRwi5JI/s50-c-k-no/photo.jpg",
      "userId": "115467584731929004754"
     },
     "user_tz": -330
    },
    "id": "pM6Rhr2T0JVB",
    "outputId": "afaa5605-0fe4-41e6-a197-84810f4a8a4a"
   },
   "outputs": [
    {
     "data": {
      "text/plain": [
       "(180354, 116)"
      ]
     },
     "execution_count": 78,
     "metadata": {},
     "output_type": "execute_result"
    }
   ],
   "source": [
    "# Shape of the dataframe df1\n",
    "df1.shape"
   ]
  },
  {
   "cell_type": "markdown",
   "metadata": {
    "colab_type": "text",
    "id": "d5ZWnu1r0JVS"
   },
   "source": [
    "## Train, Test & Split"
   ]
  },
  {
   "cell_type": "code",
   "execution_count": 79,
   "metadata": {
    "colab": {
     "autoexec": {
      "startup": false,
      "wait_interval": 0
     }
    },
    "colab_type": "code",
    "id": "uIFasMwQ0JVa"
   },
   "outputs": [],
   "source": [
    "# Spliting the dataset into two: target value and predictor values. \n",
    "X = df1.drop('overall_rating', axis = 1) #All features except overall_rating ( predictor values )\n",
    "Y = df1['overall_rating'] #overall_rating ( target value )"
   ]
  },
  {
   "cell_type": "code",
   "execution_count": 80,
   "metadata": {
    "colab": {
     "autoexec": {
      "startup": false,
      "wait_interval": 0
     },
     "base_uri": "https://localhost:8080/",
     "height": 87
    },
    "colab_type": "code",
    "executionInfo": {
     "elapsed": 1003,
     "status": "ok",
     "timestamp": 1533168175178,
     "user": {
      "displayName": "Abhishek Kumar Gupta",
      "photoUrl": "//lh6.googleusercontent.com/-fpn6mF4EqQo/AAAAAAAAAAI/AAAAAAAAANs/sxPIjRwi5JI/s50-c-k-no/photo.jpg",
      "userId": "115467584731929004754"
     },
     "user_tz": -330
    },
    "id": "rVZSfWQf0JV5",
    "outputId": "65fd1ff9-0740-46e5-83d2-8841dfa98b5e"
   },
   "outputs": [
    {
     "name": "stdout",
     "output_type": "stream",
     "text": [
      "(144283, 115)\n",
      "(36071, 115)\n",
      "(144283,)\n",
      "(36071,)\n"
     ]
    }
   ],
   "source": [
    "X_train, X_test, Y_train, Y_test = train_test_split(X, Y, test_size = 0.2, random_state = 5)\n",
    "print(X_train.shape) # Training data shape (predictor values) : 80%\n",
    "print(X_test.shape) # Test data shape (predictor values) : 20%\n",
    "print(Y_train.shape) # Training data shape (target values) : 80%\n",
    "print(Y_test.shape) # Test data shape (target values) : 20%"
   ]
  },
  {
   "cell_type": "markdown",
   "metadata": {
    "colab_type": "text",
    "id": "8z2RCRWW0JWM"
   },
   "source": [
    "## Creating and Training the Model"
   ]
  },
  {
   "cell_type": "code",
   "execution_count": 81,
   "metadata": {
    "colab": {
     "autoexec": {
      "startup": false,
      "wait_interval": 0
     },
     "base_uri": "https://localhost:8080/",
     "height": 34
    },
    "colab_type": "code",
    "executionInfo": {
     "elapsed": 2779,
     "status": "ok",
     "timestamp": 1533168178921,
     "user": {
      "displayName": "Abhishek Kumar Gupta",
      "photoUrl": "//lh6.googleusercontent.com/-fpn6mF4EqQo/AAAAAAAAAAI/AAAAAAAAANs/sxPIjRwi5JI/s50-c-k-no/photo.jpg",
      "userId": "115467584731929004754"
     },
     "user_tz": -330
    },
    "id": "FA5ogYLK0JWT",
    "outputId": "029068b0-50ce-4d6c-96f9-5f5e300a99f3"
   },
   "outputs": [
    {
     "data": {
      "text/plain": [
       "LinearRegression(copy_X=True, fit_intercept=True, n_jobs=None,\n",
       "         normalize=False)"
      ]
     },
     "execution_count": 81,
     "metadata": {},
     "output_type": "execute_result"
    }
   ],
   "source": [
    "lm = LinearRegression() # Creating an instance of LinearRegression\n",
    "lm.fit(X_train, Y_train) # Fitting the created instance of the LinearRegression"
   ]
  },
  {
   "cell_type": "code",
   "execution_count": 82,
   "metadata": {
    "colab": {
     "autoexec": {
      "startup": false,
      "wait_interval": 0
     },
     "base_uri": "https://localhost:8080/",
     "height": 34
    },
    "colab_type": "code",
    "executionInfo": {
     "elapsed": 913,
     "status": "ok",
     "timestamp": 1533168180143,
     "user": {
      "displayName": "Abhishek Kumar Gupta",
      "photoUrl": "//lh6.googleusercontent.com/-fpn6mF4EqQo/AAAAAAAAAAI/AAAAAAAAANs/sxPIjRwi5JI/s50-c-k-no/photo.jpg",
      "userId": "115467584731929004754"
     },
     "user_tz": -330
    },
    "id": "JTs5aqVX0JWu",
    "outputId": "becd3a87-5d2b-4319-8c70-947e3192c4e3"
   },
   "outputs": [
    {
     "name": "stdout",
     "output_type": "stream",
     "text": [
      "-3.3993622766257516\n"
     ]
    }
   ],
   "source": [
    "# Printing intercept \n",
    "print(lm.intercept_)"
   ]
  },
  {
   "cell_type": "code",
   "execution_count": 83,
   "metadata": {
    "colab": {
     "autoexec": {
      "startup": false,
      "wait_interval": 0
     },
     "base_uri": "https://localhost:8080/",
     "height": 532
    },
    "colab_type": "code",
    "executionInfo": {
     "elapsed": 1372,
     "status": "ok",
     "timestamp": 1533168182515,
     "user": {
      "displayName": "Abhishek Kumar Gupta",
      "photoUrl": "//lh6.googleusercontent.com/-fpn6mF4EqQo/AAAAAAAAAAI/AAAAAAAAANs/sxPIjRwi5JI/s50-c-k-no/photo.jpg",
      "userId": "115467584731929004754"
     },
     "user_tz": -330
    },
    "id": "qLyw_UdL0JW9",
    "outputId": "d6a997d1-c599-4137-c1d9-7c3affb55f1a"
   },
   "outputs": [
    {
     "name": "stdout",
     "output_type": "stream",
     "text": [
      "[ 3.86424465e-01  2.43052499e-02  1.23932466e-02  7.27987316e-02\n",
      "  3.22893045e-02  5.96675978e-03 -1.82727705e-02  8.10447096e-03\n",
      "  1.28522030e-02  8.99033904e-03  1.26067864e-01  7.26557793e-03\n",
      "  1.44847494e-02 -1.17529392e-02  1.98825944e-01  1.00051378e-02\n",
      "  1.52496886e-02  1.17356107e-02  1.81796442e-04  5.25162101e-02\n",
      " -1.62253785e-02  2.06916748e-02  2.09904032e-02 -6.73404088e-03\n",
      "  1.01773930e-02  1.66510469e-02  2.99012977e-02  1.94398387e-03\n",
      " -3.01926087e-02  1.27983365e-01  3.85557217e-02  2.00974394e-04\n",
      "  5.57407945e-02  2.72966434e-02  7.71567229e-03 -7.71567229e-03\n",
      " -2.24302556e-01 -1.06630333e-01 -4.89516840e-01  1.21077428e+00\n",
      " -1.05639870e-01  1.23226900e-01 -4.35415418e-01  2.75038348e-02\n",
      " -4.47705710e-01  1.71784113e-01 -6.21478068e-01  4.26562337e-01\n",
      " -4.25076459e-01 -4.54770915e-01 -2.02643420e-01  5.83565329e-01\n",
      "  8.78372118e-01  4.19666406e-01 -4.89516840e-01  2.75038348e-02\n",
      " -9.38751054e-02  4.17571581e-01 -2.86786613e-01  4.09015930e-01\n",
      "  1.23226900e-01 -4.35415418e-01 -1.09555277e+00 -2.24239264e+00\n",
      " -1.89935172e+00 -1.04274644e+00  1.93341533e-01  9.40681940e-01\n",
      "  1.01648711e+00  1.12702196e+00  1.34305713e+00  1.65945390e+00\n",
      " -1.83821747e-01 -7.96521519e-02 -1.14166673e-01  4.81589039e-04\n",
      " -3.51773503e-02 -1.01668079e-01 -1.05435621e-01  1.36252851e-01\n",
      "  1.68138678e-01  1.48788723e-01  1.46488490e-01  1.97712920e-02\n",
      "  2.15115306e-02  2.32038065e-01  1.19617009e-02 -1.62129891e-01\n",
      "  6.92531830e-02  8.32313137e-02 -8.68525939e-02 -1.97456303e-01\n",
      " -4.20208648e-02  1.55033005e-02 -1.95446909e-01  1.65719451e-01\n",
      " -4.45382779e-02 -4.10641267e-02  1.92948627e-02  2.36018601e-01\n",
      "  1.53228212e-01 -4.29489204e-03  6.11425381e-02 -1.93893711e-01\n",
      "  8.28492247e-02  2.08795674e-02 -1.46647800e-01  6.56822397e-02\n",
      " -7.91498461e-02  6.48939893e-02 -1.03873983e-01 -4.58761478e-02\n",
      " -2.82858679e-01  3.72359598e-01 -4.94633517e-02]\n"
     ]
    }
   ],
   "source": [
    "# Printing coefficients\n",
    "print(lm.coef_)"
   ]
  },
  {
   "cell_type": "markdown",
   "metadata": {
    "colab_type": "text",
    "id": "xSaZikLZ0JXJ"
   },
   "source": [
    "## Predicting overall_rating using Test Data"
   ]
  },
  {
   "cell_type": "code",
   "execution_count": 84,
   "metadata": {
    "colab": {
     "autoexec": {
      "startup": false,
      "wait_interval": 0
     }
    },
    "colab_type": "code",
    "id": "JUSWd97Q0JXM"
   },
   "outputs": [],
   "source": [
    "# Calculating the prediction values\n",
    "Y_pred = lm.predict(X_test)"
   ]
  },
  {
   "cell_type": "code",
   "execution_count": 85,
   "metadata": {
    "colab": {
     "autoexec": {
      "startup": false,
      "wait_interval": 0
     },
     "base_uri": "https://localhost:8080/",
     "height": 34
    },
    "colab_type": "code",
    "executionInfo": {
     "elapsed": 958,
     "status": "ok",
     "timestamp": 1533168186442,
     "user": {
      "displayName": "Abhishek Kumar Gupta",
      "photoUrl": "//lh6.googleusercontent.com/-fpn6mF4EqQo/AAAAAAAAAAI/AAAAAAAAANs/sxPIjRwi5JI/s50-c-k-no/photo.jpg",
      "userId": "115467584731929004754"
     },
     "user_tz": -330
    },
    "id": "ECmvYqvC0JXW",
    "outputId": "93b02219-443c-4f83-f7fa-f040cda68e58"
   },
   "outputs": [
    {
     "data": {
      "text/plain": [
       "(36071,)"
      ]
     },
     "execution_count": 85,
     "metadata": {},
     "output_type": "execute_result"
    }
   ],
   "source": [
    "# Prediction shape from test data\n",
    "Y_pred.shape"
   ]
  },
  {
   "cell_type": "code",
   "execution_count": 86,
   "metadata": {
    "colab": {
     "autoexec": {
      "startup": false,
      "wait_interval": 0
     },
     "base_uri": "https://localhost:8080/",
     "height": 645
    },
    "colab_type": "code",
    "executionInfo": {
     "elapsed": 2648,
     "status": "ok",
     "timestamp": 1533168189869,
     "user": {
      "displayName": "Abhishek Kumar Gupta",
      "photoUrl": "//lh6.googleusercontent.com/-fpn6mF4EqQo/AAAAAAAAAAI/AAAAAAAAANs/sxPIjRwi5JI/s50-c-k-no/photo.jpg",
      "userId": "115467584731929004754"
     },
     "user_tz": -330
    },
    "id": "iri5gVmE0JX9",
    "outputId": "017182e0-dfb6-4a4d-8127-daba08a25b36"
   },
   "outputs": [
    {
     "data": {
      "image/png": "[encoded data removed]",
      "text/plain": [
       "<Figure size 1152x648 with 1 Axes>"
      ]
     },
     "metadata": {},
     "output_type": "display_data"
    }
   ],
   "source": [
    "# To visualize the differences between actual overall rating and predicted values, creating a scatter plot.\n",
    "sns.set_style(\"whitegrid\")\n",
    "sns.set_context(\"poster\")\n",
    "plt.figure(figsize=(16,9))\n",
    "plt.scatter(Y_test, Y_pred)\n",
    "plt.xlabel(\"Overall Rating: $Y_i$\")\n",
    "plt.ylabel(\"Predicted Overall Rating: $\\hat{Y}_i$\")\n",
    "plt.title(\"Overall Rating vs Predicted Overall Rating: $Y_i$ vs $\\hat{Y}_i$\")\n",
    "plt.text(40,25, \"Comparison between the actual Overall Rating and predicted Overall Rating.\", ha='left')\n",
    "plt.show()"
   ]
  },
  {
   "cell_type": "code",
   "execution_count": 87,
   "metadata": {
    "colab": {
     "autoexec": {
      "startup": false,
      "wait_interval": 0
     },
     "base_uri": "https://localhost:8080/",
     "height": 574
    },
    "colab_type": "code",
    "executionInfo": {
     "elapsed": 5569,
     "status": "ok",
     "timestamp": 1533168195736,
     "user": {
      "displayName": "Abhishek Kumar Gupta",
      "photoUrl": "//lh6.googleusercontent.com/-fpn6mF4EqQo/AAAAAAAAAAI/AAAAAAAAANs/sxPIjRwi5JI/s50-c-k-no/photo.jpg",
      "userId": "115467584731929004754"
     },
     "user_tz": -330
    },
    "id": "Hn3YmW7M0JYP",
    "outputId": "6c780150-69d4-430c-d4fb-f52b905d8d5b"
   },
   "outputs": [
    {
     "name": "stderr",
     "output_type": "stream",
     "text": [
      "C:\\Users\\Swami\\Anaconda3\\lib\\site-packages\\scipy\\stats\\stats.py:1713: FutureWarning: Using a non-tuple sequence for multidimensional indexing is deprecated; use `arr[tuple(seq)]` instead of `arr[seq]`. In the future this will be interpreted as an array index, `arr[np.array(seq)]`, which will result either in an error or a different result.\n",
      "  return np.add.reduce(sorted[indexer] * weights, axis=axis) / sumval\n"
     ]
    },
    {
     "data": {
      "text/plain": [
       "<matplotlib.axes._subplots.AxesSubplot at 0x1bca23f99e8>"
      ]
     },
     "execution_count": 87,
     "metadata": {},
     "output_type": "execute_result"
    },
    {
     "data": {
      "image/png": "[encoded data removed]",
      "text/plain": [
       "<Figure size 432x288 with 1 Axes>"
      ]
     },
     "metadata": {},
     "output_type": "display_data"
    }
   ],
   "source": [
    "# Plot Y_test and Y_pred for Linear Regression Model.\n",
    "sns.regplot(Y_test, Y_pred, data=df1, fit_reg=True)"
   ]
  },
  {
   "cell_type": "code",
   "execution_count": 88,
   "metadata": {
    "colab": {
     "autoexec": {
      "startup": false,
      "wait_interval": 0
     },
     "base_uri": "https://localhost:8080/",
     "height": 552
    },
    "colab_type": "code",
    "executionInfo": {
     "elapsed": 23172,
     "status": "ok",
     "timestamp": 1533168219069,
     "user": {
      "displayName": "Abhishek Kumar Gupta",
      "photoUrl": "//lh6.googleusercontent.com/-fpn6mF4EqQo/AAAAAAAAAAI/AAAAAAAAANs/sxPIjRwi5JI/s50-c-k-no/photo.jpg",
      "userId": "115467584731929004754"
     },
     "user_tz": -330
    },
    "id": "94laJ8wx0JYc",
    "outputId": "7b2b6c27-2ad7-4de1-bf95-e612a95f1dfc"
   },
   "outputs": [
    {
     "name": "stderr",
     "output_type": "stream",
     "text": [
      "C:\\Users\\Swami\\Anaconda3\\lib\\site-packages\\scipy\\stats\\stats.py:1713: FutureWarning: Using a non-tuple sequence for multidimensional indexing is deprecated; use `arr[tuple(seq)]` instead of `arr[seq]`. In the future this will be interpreted as an array index, `arr[np.array(seq)]`, which will result either in an error or a different result.\n",
      "  return np.add.reduce(sorted[indexer] * weights, axis=axis) / sumval\n"
     ]
    },
    {
     "data": {
      "text/plain": [
       "<matplotlib.axes._subplots.AxesSubplot at 0x1bca21e8eb8>"
      ]
     },
     "execution_count": 88,
     "metadata": {},
     "output_type": "execute_result"
    },
    {
     "data": {
      "image/png": "[encoded data removed]",
      "text/plain": [
       "<Figure size 432x288 with 1 Axes>"
      ]
     },
     "metadata": {},
     "output_type": "display_data"
    }
   ],
   "source": [
    "# Plot predicted and actual Overall Rating values.\n",
    "sns.regplot(x=lm.predict(X), y=df1['overall_rating'], data=df1, fit_reg=True)"
   ]
  },
  {
   "cell_type": "markdown",
   "metadata": {
    "colab_type": "text",
    "id": "YVmmiOoP0JYt"
   },
   "source": [
    "## Model Evaluation Using Cross-Validation"
   ]
  },
  {
   "cell_type": "code",
   "execution_count": 89,
   "metadata": {
    "colab": {
     "autoexec": {
      "startup": false,
      "wait_interval": 0
     },
     "base_uri": "https://localhost:8080/",
     "height": 52
    },
    "colab_type": "code",
    "executionInfo": {
     "elapsed": 29304,
     "status": "ok",
     "timestamp": 1533168248728,
     "user": {
      "displayName": "Abhishek Kumar Gupta",
      "photoUrl": "//lh6.googleusercontent.com/-fpn6mF4EqQo/AAAAAAAAAAI/AAAAAAAAANs/sxPIjRwi5JI/s50-c-k-no/photo.jpg",
      "userId": "115467584731929004754"
     },
     "user_tz": -330
    },
    "id": "TECHppz70JYx",
    "outputId": "65799801-f7f3-4bca-8990-7eaa73fe1280"
   },
   "outputs": [
    {
     "data": {
      "text/plain": [
       "array([-7.44256819, -7.10106665, -7.1964293 , -7.29567788, -7.17236284,\n",
       "       -7.57297055, -7.1520984 , -7.34232439, -7.48982496, -7.22300491])"
      ]
     },
     "execution_count": 89,
     "metadata": {},
     "output_type": "execute_result"
    }
   ],
   "source": [
    "# Evaluating the model using 10-fold cross-validation\n",
    "scores = cross_val_score(LinearRegression(), X, Y, scoring='neg_mean_squared_error', cv=10)\n",
    "scores"
   ]
  },
  {
   "cell_type": "code",
   "execution_count": 90,
   "metadata": {
    "colab": {
     "autoexec": {
      "startup": false,
      "wait_interval": 0
     },
     "base_uri": "https://localhost:8080/",
     "height": 34
    },
    "colab_type": "code",
    "executionInfo": {
     "elapsed": 942,
     "status": "ok",
     "timestamp": 1533168250041,
     "user": {
      "displayName": "Abhishek Kumar Gupta",
      "photoUrl": "//lh6.googleusercontent.com/-fpn6mF4EqQo/AAAAAAAAAAI/AAAAAAAAANs/sxPIjRwi5JI/s50-c-k-no/photo.jpg",
      "userId": "115467584731929004754"
     },
     "user_tz": -330
    },
    "id": "9DvFgMK-0JZQ",
    "outputId": "c0aba2df-b24c-4428-a3e2-e897d183bebe"
   },
   "outputs": [
    {
     "data": {
      "text/plain": [
       "2.7016352097311422"
      ]
     },
     "execution_count": 90,
     "metadata": {},
     "output_type": "execute_result"
    }
   ],
   "source": [
    "np.sqrt(scores.mean() * -1)"
   ]
  },
  {
   "cell_type": "code",
   "execution_count": 91,
   "metadata": {
    "colab": {
     "autoexec": {
      "startup": false,
      "wait_interval": 0
     },
     "base_uri": "https://localhost:8080/",
     "height": 54
    },
    "colab_type": "code",
    "executionInfo": {
     "elapsed": 941,
     "status": "ok",
     "timestamp": 1533168251487,
     "user": {
      "displayName": "Abhishek Kumar Gupta",
      "photoUrl": "//lh6.googleusercontent.com/-fpn6mF4EqQo/AAAAAAAAAAI/AAAAAAAAANs/sxPIjRwi5JI/s50-c-k-no/photo.jpg",
      "userId": "115467584731929004754"
     },
     "user_tz": -330
    },
    "id": "RdvEqMiK0JZg",
    "outputId": "23f78cfd-c96d-44be-cd7b-d027fcf0a1c0"
   },
   "outputs": [
    {
     "name": "stdout",
     "output_type": "stream",
     "text": [
      "The Root Mean Square Error using cross validation for the Model is 2.7016352097311422 and the Results can be further improved using feature extraction and rebuilding, training the model.\n"
     ]
    }
   ],
   "source": [
    "print(\"The Root Mean Square Error using cross validation for the Model is \"+ str(np.sqrt(scores.mean() * -1)) +\" and the Results can be further improved using feature extraction and rebuilding, training the model.\")"
   ]
  },
  {
   "cell_type": "markdown",
   "metadata": {
    "colab_type": "text",
    "id": "dxcuVLWk0JZu"
   },
   "source": [
    "## Evaluating the Model Using RMSE"
   ]
  },
  {
   "cell_type": "code",
   "execution_count": 92,
   "metadata": {
    "colab": {
     "autoexec": {
      "startup": false,
      "wait_interval": 0
     },
     "base_uri": "https://localhost:8080/",
     "height": 34
    },
    "colab_type": "code",
    "executionInfo": {
     "elapsed": 939,
     "status": "ok",
     "timestamp": 1533168253033,
     "user": {
      "displayName": "Abhishek Kumar Gupta",
      "photoUrl": "//lh6.googleusercontent.com/-fpn6mF4EqQo/AAAAAAAAAAI/AAAAAAAAANs/sxPIjRwi5JI/s50-c-k-no/photo.jpg",
      "userId": "115467584731929004754"
     },
     "user_tz": -330
    },
    "id": "faIxeWba0JZz",
    "outputId": "168f87c2-6639-4e7e-bbdc-39b361f6a9fe"
   },
   "outputs": [
    {
     "name": "stdout",
     "output_type": "stream",
     "text": [
      "7.19986225189658\n"
     ]
    }
   ],
   "source": [
    "# Calculating Mean Squared Error\n",
    "mse = mean_squared_error(Y_test, Y_pred) #Mean Squared Error: To check the level of error of a model\n",
    "print(mse)"
   ]
  },
  {
   "cell_type": "code",
   "execution_count": 93,
   "metadata": {
    "colab": {
     "autoexec": {
      "startup": false,
      "wait_interval": 0
     },
     "base_uri": "https://localhost:8080/",
     "height": 34
    },
    "colab_type": "code",
    "executionInfo": {
     "elapsed": 1488,
     "status": "ok",
     "timestamp": 1533168255068,
     "user": {
      "displayName": "Abhishek Kumar Gupta",
      "photoUrl": "//lh6.googleusercontent.com/-fpn6mF4EqQo/AAAAAAAAAAI/AAAAAAAAANs/sxPIjRwi5JI/s50-c-k-no/photo.jpg",
      "userId": "115467584731929004754"
     },
     "user_tz": -330
    },
    "id": "S9nOrvEm0JaC",
    "outputId": "66a8a038-79d6-45fb-9e15-285199166d8f"
   },
   "outputs": [
    {
     "name": "stdout",
     "output_type": "stream",
     "text": [
      "2.6832559050333944\n"
     ]
    }
   ],
   "source": [
    "#Calculating Root Mean Squared Error#Calcula \n",
    "rmse = mse ** 0.5 # Square root of mse (Mean Squared Error)\n",
    "print(rmse)"
   ]
  },
  {
   "cell_type": "code",
   "execution_count": 94,
   "metadata": {
    "colab": {
     "autoexec": {
      "startup": false,
      "wait_interval": 0
     },
     "base_uri": "https://localhost:8080/",
     "height": 34
    },
    "colab_type": "code",
    "executionInfo": {
     "elapsed": 3064,
     "status": "ok",
     "timestamp": 1533168258560,
     "user": {
      "displayName": "Abhishek Kumar Gupta",
      "photoUrl": "//lh6.googleusercontent.com/-fpn6mF4EqQo/AAAAAAAAAAI/AAAAAAAAANs/sxPIjRwi5JI/s50-c-k-no/photo.jpg",
      "userId": "115467584731929004754"
     },
     "user_tz": -330
    },
    "id": "QAMj9y3U0Jaa",
    "outputId": "90432707-d6e0-4169-83d4-bddc63cc7098"
   },
   "outputs": [
    {
     "name": "stdout",
     "output_type": "stream",
     "text": [
      "The Root Mean Square Error (RMSE) for the Model is 2.6832559050333944 and the Results can be further improved using feature extraction and rebuilding, training the model.\n"
     ]
    }
   ],
   "source": [
    "print(\"The Root Mean Square Error (RMSE) for the Model is \"+ str(rmse) +\" and the Results can be further improved using feature extraction and rebuilding, training the model.\")"
   ]
  }
 ],
 "metadata": {
  "accelerator": "GPU",
  "colab": {
   "default_view": {},
   "name": "Predicting-players-rating_All_Solutions.ipynb",
   "provenance": [],
   "version": "0.3.2",
   "views": {}
  },
  "kernelspec": {
   "display_name": "Python 3",
   "language": "python",
   "name": "python3"
  },
  "language_info": {
   "codemirror_mode": {
    "name": "ipython",
    "version": 3
   },
   "file_extension": ".py",
   "mimetype": "text/x-python",
   "name": "python",
   "nbconvert_exporter": "python",
   "pygments_lexer": "ipython3",
   "version": "3.7.1"
  }
 },
 "nbformat": 4,
 "nbformat_minor": 1
}
